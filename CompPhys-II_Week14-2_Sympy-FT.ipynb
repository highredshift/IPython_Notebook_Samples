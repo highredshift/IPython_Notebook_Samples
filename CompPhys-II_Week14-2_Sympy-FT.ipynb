{
 "cells": [
  {
   "cell_type": "markdown",
   "metadata": {},
   "source": [
    "## University of San Francisco\n",
    "## Compuational Physics II\n",
    "## Xiaosheng Huang"
   ]
  },
  {
   "cell_type": "markdown",
   "metadata": {},
   "source": [
    "# Symbolic Computation -- Continued\n",
    "\n",
    "## 1. Simple Exercises\n",
    "\n",
    "## 2. Complex Functions in Sympy\n",
    "\n",
    "## 3. Fourier Transform\n"
   ]
  },
  {
   "cell_type": "code",
   "execution_count": 1,
   "metadata": {
    "collapsed": true
   },
   "outputs": [],
   "source": [
    "%matplotlib inline\n",
    "import numpy as np\n",
    "import matplotlib.pyplot as plt\n",
    "from __future__ import print_function\n",
    "\n",
    "from sympy import *\n",
    "from sympy.utilities.lambdify import lambdify  \n",
    "\n",
    "from sympy import init_printing\n",
    "init_printing() \n"
   ]
  },
  {
   "cell_type": "markdown",
   "metadata": {},
   "source": [
    "## Mini Quiz:\n",
    "\n",
    "## 1. Integrate a Gaussian from $-\\infty$ to $+\\infty$:\n",
    "\n",
    "## $$y = ae^{-bx^2}$$\n",
    "\n",
    "## Be sure specify that $b > 0$.  Otherwise the integral blows up.\n",
    "\n",
    "## 2. Sum over the geometric series\n",
    "\n",
    "## $$\\sum_{0}^{\\infty} \\frac{1} {2^n}$$\n",
    "\n",
    "## Be sure to specify that $n$ is an integer.\n",
    "\n",
    "## 3. Find the normalization factor A of the following function \n",
    "\n",
    "## $$f(x) = Asin\\left(\\frac{2n \\pi x} {L}\\right)$$\n",
    "\n",
    "## such that $f(x)$ has a norm of 1 over the interval of $x \\in (-L/2, L/2)$.\n",
    "\n",
    "## Be sure to specify $L > 0$ ($L = 0$ would make an unviable function).\n",
    "\n"
   ]
  },
  {
   "cell_type": "code",
   "execution_count": 2,
   "metadata": {},
   "outputs": [
    {
     "data": {
      "image/png": "[encoded data removed]",
      "text/latex": [
       "$$\\frac{\\sqrt{\\pi} a}{\\sqrt{b}}$$"
      ],
      "text/plain": [
       "√π⋅a\n",
       "────\n",
       " √b "
      ]
     },
     "execution_count": 2,
     "metadata": {},
     "output_type": "execute_result"
    }
   ],
   "source": [
    "'''\n",
    "Quiz problem 1 solution\n",
    "\n",
    "Gaussian integrated\n",
    "\n",
    "'''\n",
    "\n",
    "x, a = symbols('x a')\n",
    "# If you don't specify the sign as positive, the intergral blows up.\n",
    "b = symbols('b', positive = True)\n",
    "\n",
    "y = a*exp(-b*x**2)\n",
    "\n",
    "y_int = integrate(y, (x, -oo, oo))\n",
    "\n",
    "y_int"
   ]
  },
  {
   "cell_type": "code",
   "execution_count": 3,
   "metadata": {},
   "outputs": [
    {
     "data": {
      "image/png": "[encoded data removed]",
      "text/latex": [
       "$$2$$"
      ],
      "text/plain": [
       "2"
      ]
     },
     "execution_count": 3,
     "metadata": {},
     "output_type": "execute_result"
    }
   ],
   "source": [
    "'''\n",
    "Quiz problem 2 solution\n",
    "\n",
    "1/2^n summed\n",
    "\n",
    "'''\n",
    "n = symbols('n', integer = True)\n",
    "\n",
    "geom_ser = summation(1/2**n, (n, 0, oo))\n",
    "\n",
    "geom_ser"
   ]
  },
  {
   "cell_type": "code",
   "execution_count": 4,
   "metadata": {},
   "outputs": [
    {
     "data": {
      "image/png": "[encoded data removed]",
      "text/latex": [
       "$$\\frac{\\sqrt{2}}{\\sqrt{L}}$$"
      ],
      "text/plain": [
       "√2\n",
       "──\n",
       "√L"
      ]
     },
     "execution_count": 4,
     "metadata": {},
     "output_type": "execute_result"
    }
   ],
   "source": [
    "'''\n",
    "Quiz problem 3 solution\n",
    "\n",
    "sinusoidal basis function normalized\n",
    "\n",
    "Sympy is smart enough to figure out the answer is independent of n!\n",
    "\n",
    "'''\n",
    "# Note: without knowing L is positive the integrand may not be mathematically valid\n",
    "L = symbols('L', positive = True)\n",
    "n = symbols('n', integer = True, positive = True)\n",
    "\n",
    "f = sin(2*n*pi*x/L)\n",
    "f_int = integrate(f**2, (x, -L/2, L/2))\n",
    "f_int  \n",
    "A = 1/sqrt(f_int)\n",
    "A"
   ]
  },
  {
   "cell_type": "code",
   "execution_count": 5,
   "metadata": {},
   "outputs": [
    {
     "name": "stdout",
     "output_type": "stream",
     "text": [
      "1j\n",
      "1.0*I\n"
     ]
    }
   ],
   "source": [
    "'''Useful for complex Fourier Series and for Fourier Transform'''\n",
    "\n",
    "print(1j)\n",
    "print(I.evalf())"
   ]
  },
  {
   "cell_type": "code",
   "execution_count": 6,
   "metadata": {},
   "outputs": [
    {
     "data": {
      "image/png": "[encoded data removed]",
      "text/latex": [
       "$$-1$$"
      ],
      "text/plain": [
       "-1"
      ]
     },
     "execution_count": 6,
     "metadata": {},
     "output_type": "execute_result"
    }
   ],
   "source": [
    "# Purely sympy expression\n",
    "E**(I*pi)"
   ]
  },
  {
   "cell_type": "code",
   "execution_count": 7,
   "metadata": {},
   "outputs": [
    {
     "data": {
      "image/png": "[encoded data removed]",
      "text/latex": [
       "$$e^{1.0 i \\pi}$$"
      ],
      "text/plain": [
       " 1.0⋅ⅈ⋅π\n",
       "ℯ       "
      ]
     },
     "execution_count": 7,
     "metadata": {},
     "output_type": "execute_result"
    }
   ],
   "source": [
    "## mixture of sympy and numpy expressions \n",
    "E**(1j*pi)"
   ]
  },
  {
   "cell_type": "code",
   "execution_count": 8,
   "metadata": {},
   "outputs": [
    {
     "data": {
      "image/png": "[encoded data removed]",
      "text/latex": [
       "$$-1.0 + 3.0 \\cdot 10^{-21} i$$"
      ],
      "text/plain": [
       "-1.0 + 0.e-21⋅ⅈ"
      ]
     },
     "execution_count": 8,
     "metadata": {},
     "output_type": "execute_result"
    }
   ],
   "source": [
    "## mixture of sympy and numpy expressions with evalf()\n",
    "(E**(1j*pi)).evalf()"
   ]
  },
  {
   "cell_type": "code",
   "execution_count": 9,
   "metadata": {},
   "outputs": [
    {
     "data": {
      "image/png": "[encoded data removed]",
      "text/latex": [
       "$$2.71828182845905^{1.0 i \\pi}$$"
      ],
      "text/plain": [
       "                1.0⋅ⅈ⋅π\n",
       "2.71828182845905       "
      ]
     },
     "execution_count": 9,
     "metadata": {},
     "output_type": "execute_result"
    }
   ],
   "source": [
    "## mixture of sympy and numpy expressions\n",
    "np.e**(1j*pi)"
   ]
  },
  {
   "cell_type": "code",
   "execution_count": 10,
   "metadata": {},
   "outputs": [
    {
     "data": {
      "image/png": "[encoded data removed]",
      "text/latex": [
       "$$-1.0 + 2.0 \\cdot 10^{-16} i$$"
      ],
      "text/plain": [
       "-1.0 + 2.0e-16⋅ⅈ"
      ]
     },
     "execution_count": 10,
     "metadata": {},
     "output_type": "execute_result"
    }
   ],
   "source": [
    "## mixture of sympy and numpy expressions with evalf()\n",
    "(np.e**(1j*pi)).evalf()"
   ]
  },
  {
   "cell_type": "code",
   "execution_count": 11,
   "metadata": {},
   "outputs": [
    {
     "data": {
      "image/png": "[encoded data removed]",
      "text/latex": [
       "$$-1.0 + 2.0 \\cdot 10^{-16} i$$"
      ],
      "text/plain": [
       "-1.0 + 2.0e-16⋅ⅈ"
      ]
     },
     "execution_count": 11,
     "metadata": {},
     "output_type": "execute_result"
    }
   ],
   "source": [
    "(np.e**(1j*pi)).evalf()"
   ]
  },
  {
   "cell_type": "code",
   "execution_count": 12,
   "metadata": {},
   "outputs": [
    {
     "data": {
      "text/plain": [
       "(-1+1.2246467991473532e-16j)"
      ]
     },
     "execution_count": 12,
     "metadata": {},
     "output_type": "execute_result"
    }
   ],
   "source": [
    "## purely numpy expressions\n",
    "np.e**(1j*np.pi)"
   ]
  },
  {
   "cell_type": "markdown",
   "metadata": {},
   "source": [
    "## Conclusion: Generally, DON'T mix numpy and sympy expressions."
   ]
  },
  {
   "cell_type": "markdown",
   "metadata": {},
   "source": [
    "## Sympy's plotting function"
   ]
  },
  {
   "cell_type": "code",
   "execution_count": 13,
   "metadata": {},
   "outputs": [
    {
     "data": {
      "image/png": "[encoded data removed]",
      "text/plain": [
       "<matplotlib.figure.Figure at 0x113400dd0>"
      ]
     },
     "metadata": {},
     "output_type": "display_data"
    }
   ],
   "source": [
    "from sympy.abc import x\n",
    "f = x**2\n",
    "# note the difference between the tuple that specify the range in which to evalute the function\n",
    "# and the keyword variable that specifies the range of plotting\n",
    "plot(f, (x, -10, 10), xlim = (-5, 5))\n",
    "\n",
    "# This tells you underneath it's still matplotlib\n",
    "plt.show()"
   ]
  },
  {
   "cell_type": "code",
   "execution_count": 14,
   "metadata": {},
   "outputs": [
    {
     "data": {
      "image/png": "[encoded data removed]",
      "text/plain": [
       "<matplotlib.figure.Figure at 0x115ac7890>"
      ]
     },
     "metadata": {},
     "output_type": "display_data"
    }
   ],
   "source": [
    "# The Heaviside step function\n",
    "f = Heaviside(x)\n",
    "plot(f, (x, -2, 2))\n",
    "plt.show()"
   ]
  },
  {
   "cell_type": "markdown",
   "metadata": {},
   "source": [
    "## Mini-breakout: \n",
    "\n",
    "- ## Creat a tophat function:\n",
    "\n",
    "$$f(x) = \\begin{cases} \n",
    "      0 & x\\leq -w/2 \\\\\n",
    "      1 & -w/2 < x < w/2 \\\\\n",
    "      0 & x \\geq w/2\n",
    "\\end{cases}$$\n",
    "\n",
    "- ## Specify w = 2.\n",
    "\n",
    "- ## Evaluate and plot the function between $x = -5$ and $5$."
   ]
  },
  {
   "cell_type": "code",
   "execution_count": 15,
   "metadata": {},
   "outputs": [
    {
     "data": {
      "image/png": "[encoded data removed]",
      "text/plain": [
       "<matplotlib.figure.Figure at 0x115c04b10>"
      ]
     },
     "metadata": {},
     "output_type": "display_data"
    },
    {
     "data": {
      "text/plain": [
       "<sympy.plotting.plot.Plot at 0x115bacc50>"
      ]
     },
     "execution_count": 15,
     "metadata": {},
     "output_type": "execute_result"
    }
   ],
   "source": [
    "'''\n",
    "Mini-breakout solution\n",
    "\n",
    "Note that without specifying w to be a non-zero quantity (in this case, positive),\n",
    "you can't do symbolic FT transform below.\n",
    "'''\n",
    "w = symbols('w', positive = True)\n",
    "tophat = Heaviside(x + w/2) - Heaviside(x - w/2)\n",
    "plot(tophat.subs(w, 2), (x, -5, 5))"
   ]
  },
  {
   "cell_type": "markdown",
   "metadata": {},
   "source": [
    "## Fourier Tranform "
   ]
  },
  {
   "cell_type": "code",
   "execution_count": 16,
   "metadata": {},
   "outputs": [
    {
     "data": {
      "image/png": "[encoded data removed]",
      "text/plain": [
       "<matplotlib.figure.Figure at 0x115c04250>"
      ]
     },
     "metadata": {},
     "output_type": "display_data"
    },
    {
     "data": {
      "image/png": "[encoded data removed]",
      "text/plain": [
       "<matplotlib.figure.Figure at 0x115ac7110>"
      ]
     },
     "metadata": {},
     "output_type": "display_data"
    },
    {
     "data": {
      "image/png": "[encoded data removed]",
      "text/plain": [
       "<matplotlib.figure.Figure at 0x115f83fd0>"
      ]
     },
     "metadata": {},
     "output_type": "display_data"
    },
    {
     "data": {
      "image/png": "[encoded data removed]",
      "text/latex": [
       "$$\\left ( - \\theta\\left(x - \\frac{3}{2}\\right) + \\theta\\left(x + \\frac{3}{2}\\right), \\quad \\frac{i e^{- i \\pi k w}}{2 \\pi k} \\left(- e^{2 i \\pi k w} + 1\\right), \\quad \\frac{e^{- 3 i \\pi k}}{4 \\pi^{2} k \\overline{k}} \\left(1 - e^{- 6 i \\pi \\overline{k}}\\right) \\left(- e^{6 i \\pi k} + 1\\right) e^{3 i \\pi \\overline{k}}\\right )$$"
      ],
      "text/plain": [
       "⎛                                                                          ⎛  \n",
       "⎜                                            ⎛   2⋅ⅈ⋅π⋅k⋅w    ⎞  -ⅈ⋅π⋅k⋅w  ⎜  \n",
       "⎜                                          ⅈ⋅⎝- ℯ          + 1⎠⋅ℯ          ⎝1 \n",
       "⎜-Heaviside(x - 3/2) + Heaviside(x + 3/2), ──────────────────────────────, ───\n",
       "⎜                                                      2⋅π⋅k                  \n",
       "⎝                                                                             \n",
       "\n",
       "          _⎞                                   _⎞\n",
       "   -6⋅ⅈ⋅π⋅k⎟ ⎛   6⋅ⅈ⋅π⋅k    ⎞  -3⋅ⅈ⋅π⋅k  3⋅ⅈ⋅π⋅k⎟\n",
       "- ℯ        ⎠⋅⎝- ℯ        + 1⎠⋅ℯ        ⋅ℯ       ⎟\n",
       "────────────────────────────────────────────────⎟\n",
       "                      2   _                     ⎟\n",
       "                   4⋅π ⋅k⋅k                     ⎠"
      ]
     },
     "execution_count": 16,
     "metadata": {},
     "output_type": "execute_result"
    }
   ],
   "source": [
    "'''\n",
    "\n",
    "Note: We specify the width after FT!\n",
    "\n",
    "Qustion: what do you think is going to happen to the width of the FT if \n",
    "I make the width of the tophat wider?\n",
    "\n",
    "Try it -- do you get what you expected?\n",
    "\n",
    "Why??\n",
    "\n",
    "There are two explanations -- first I will offer one from classical physics:\n",
    "\n",
    "https://en.wikipedia.org/wiki/Fraunhofer_diffraction_(mathematics)#Slit_of_infinite_depth\n",
    "\n",
    "\n",
    "'''\n",
    "k = symbols('k')\n",
    "\n",
    "ft = fourier_transform(tophat, x, k)\n",
    "\n",
    "wid = 3\n",
    "\n",
    "xlo = -4\n",
    "xhi = 4\n",
    "klo = -1\n",
    "khi = 1\n",
    "\n",
    "tophat_w = tophat.subs(w, wid)\n",
    "plot(tophat_w, (x, xlo, xhi))   \n",
    "# by default the real part is plotted\n",
    "\n",
    "ft_w = ft.subs(w, wid)\n",
    "plot(ft_w, (k, klo, khi))   \n",
    "# if you want to take a look at the real and imaginary parts \n",
    "# -- takes a while\n",
    "# plot(re(ft.subs(w, wid)), (k, klo, khi))   \n",
    "# plot(im(ft.subs(w, wid)), (k, klo, khi))   \n",
    "# So, there is no imaginary part, because the the answer is \n",
    "# a purely real function.  If it's Methods, I will ask you to show that\n",
    "# it's basically the sinc function (closely to the Bessell function):\n",
    "# http://mathworld.wolfram.com/SincFunction.html\n",
    "\n",
    "# This is what you really want to plot\n",
    "# -- because as a physicist, this is what you measure.\n",
    "ft2 = ft_w*conjugate(ft_w)\n",
    "plot(ft2, (k, klo, khi))   \n",
    "\n",
    "tophat_w, ft, ft2"
   ]
  },
  {
   "cell_type": "markdown",
   "metadata": {},
   "source": [
    "## ft_w is an analytical function that you can lambdify and apply it to numpy arrays -- this is another way to generate plots."
   ]
  },
  {
   "cell_type": "code",
   "execution_count": 17,
   "metadata": {},
   "outputs": [
    {
     "data": {
      "image/png": "[encoded data removed]",
      "text/latex": [
       "$$\\left ( -0.5, \\quad 1.5\\right )$$"
      ],
      "text/plain": [
       "(-0.5, 1.5)"
      ]
     },
     "execution_count": 17,
     "metadata": {},
     "output_type": "execute_result"
    },
    {
     "data": {
      "image/png": "[encoded data removed]",
      "text/plain": [
       "<matplotlib.figure.Figure at 0x115aea290>"
      ]
     },
     "metadata": {},
     "output_type": "display_data"
    }
   ],
   "source": [
    "'''\n",
    "Unfortunately lambdify can't be applied to continuous function.  So to get the numpy version of \n",
    "the tophat function itself, we have to try something else.\n",
    "\n",
    "You know I don't like for loops...well, there is another way\n",
    "\n",
    "'''\n",
    "def tophat_single(x_single, a = 2):\n",
    "    if x_single < -a:\n",
    "        return 0\n",
    "    elif x_single > a:\n",
    "        return 0\n",
    "    else:\n",
    "        return 1\n",
    "    \n",
    "tophat_np = np.vectorize(tophat_single)\n",
    "\n",
    "xval = np.linspace(-5, 5, 100)\n",
    "# yval = tophat(xval)\n",
    "# Or \n",
    "yval = tophat_np(xval, a = 1)\n",
    "plt.plot(xval, yval)\n",
    "plt.ylim(-0.5, 1.5)"
   ]
  },
  {
   "cell_type": "markdown",
   "metadata": {},
   "source": [
    "## Breakout Exercise:\n",
    "\n",
    "- ## Create a normalized Gaussian function with a mean of 0, in sympy.  Leave $\\sigma$ as a parameter (without specifying its value).\n",
    "\n",
    "- ## Find out its Fourier Transform\n",
    "\n",
    "- ## Specify the value of $\\sigma$\n",
    "\n",
    "- ## Plot the Gaussian and its Fourier Transform"
   ]
  },
  {
   "cell_type": "code",
   "execution_count": 18,
   "metadata": {},
   "outputs": [
    {
     "data": {
      "image/png": "[encoded data removed]",
      "text/plain": [
       "<matplotlib.figure.Figure at 0x1162ab110>"
      ]
     },
     "metadata": {},
     "output_type": "display_data"
    },
    {
     "data": {
      "image/png": "[encoded data removed]",
      "text/plain": [
       "<matplotlib.figure.Figure at 0x1162e4f10>"
      ]
     },
     "metadata": {},
     "output_type": "display_data"
    },
    {
     "data": {
      "image/png": "[encoded data removed]",
      "text/latex": [
       "$$\\left ( \\frac{\\sqrt{2} e^{- \\frac{x^{2}}{2 s^{2}}}}{2 \\sqrt{\\pi} s}, \\quad e^{- 2 \\pi^{2} k^{2} s^{2}}\\right )$$"
      ],
      "text/plain": [
       "⎛      2               ⎞\n",
       "⎜    -x                ⎟\n",
       "⎜    ────              ⎟\n",
       "⎜       2              ⎟\n",
       "⎜    2⋅s        2  2  2⎟\n",
       "⎜√2⋅ℯ       -2⋅π ⋅k ⋅s ⎟\n",
       "⎜────────, ℯ           ⎟\n",
       "⎝ 2⋅√π⋅s               ⎠"
      ]
     },
     "execution_count": 18,
     "metadata": {},
     "output_type": "execute_result"
    }
   ],
   "source": [
    "''' \n",
    "Breakout Exercise Solution\n",
    "\n",
    "Add \n",
    "\n",
    "1. Parseval's Theorem\n",
    "2. Estimate width (1-sigma)\n",
    "3. Demonstration Uncertainty Principle\n",
    "\n",
    "FT of a Gaussian is a Gaussian!\n",
    "Note: sympy's def of FT: integral(f(x)*e**(-2pi*i*xk)*dx, -oo, +oo).  \n",
    "The inclusion of 2*pi in the exponent is popular in QM. \n",
    "See Boas p. 386, problem 7.35.\n",
    "\n",
    "This is HW4, #5.\n",
    "\n",
    "\n",
    "''' \n",
    "import sympy.plotting as symplt \n",
    "from sympy.abc import x, k \n",
    "\n",
    "s = symbols('s', positive = True)\n",
    "\n",
    "f = (1/(s*sqrt(2*pi))*exp(-x**2/(2*s**2)))\n",
    "ft = fourier_transform(f, x, k)\n",
    "\n",
    "xlo = -4.\n",
    "xhi = 4.\n",
    "klo = -1.\n",
    "khi = 1.\n",
    "\n",
    "sig_val = 0.5\n",
    "\n",
    "f_plot = symplt.plot(f.subs(s, sig_val), (x, xlo, xhi), xlim = [-4, 4])   \n",
    "f_plot[0].line_color = 'k'\n",
    "ft_plot = symplt.plot(ft.subs(s, sig_val), (k, klo, khi), xlimg = [-1, 1])   \n",
    "ft_plot[0].line_color = 'k'\n",
    "\n",
    "f, ft"
   ]
  },
  {
   "cell_type": "markdown",
   "metadata": {},
   "source": [
    "## Big Breakout Exercise:\n",
    "\n",
    "## Two simultaneous animations -- tophat with changing width and its FT sqaured."
   ]
  },
  {
   "cell_type": "code",
   "execution_count": 1,
   "metadata": {},
   "outputs": [
    {
     "data": {
      "text/html": [
       "<video width=\"576\" height=\"360\" controls autoplay loop>\n",
       "  <source type=\"video/mp4\" src=\"data:video/mp4;base64,AAAAHGZ0eXBNNFYgAAACAGlzb21pc28yYXZjMQAAAAhmcmVlAACQaW1kYXQAAAKhBgX//53cRem9\n",
       "5tlIt5Ys2CDZI+7veDI2NCAtIGNvcmUgMTM4IC0gSC4yNjQvTVBFRy00IEFWQyBjb2RlYyAtIENv\n",
       "cHlsZWZ0IDIwMDMtMjAxMyAtIGh0dHA6Ly93d3cudmlkZW9sYW4ub3JnL3gyNjQuaHRtbCAtIG9w\n",
       "dGlvbnM6IGNhYmFjPTEgcmVmPTMgZGVibG9jaz0xOjA6MCBhbmFseXNlPTB4MzoweDExMyBtZT1o\n",
       "ZXggc3VibWU9NyBwc3k9MSBwc3lfcmQ9MS4wMDowLjAwIG1peGVkX3JlZj0xIG1lX3JhbmdlPTE2\n",
       "IGNocm9tYV9tZT0xIHRyZWxsaXM9MSA4eDhkY3Q9MSBjcW09MCBkZWFkem9uZT0yMSwxMSBmYXN0\n",
       "X3Bza2lwPTEgY2hyb21hX3FwX29mZnNldD0tMiB0aHJlYWRzPTEyIGxvb2thaGVhZF90aHJlYWRz\n",
       "PTIgc2xpY2VkX3RocmVhZHM9MCBucj0wIGRlY2ltYXRlPTEgaW50ZXJsYWNlZD0wIGJsdXJheV9j\n",
       "b21wYXQ9MCBjb25zdHJhaW5lZF9pbnRyYT0wIGJmcmFtZXM9MyBiX3B5cmFtaWQ9MiBiX2FkYXB0\n",
       "PTEgYl9iaWFzPTAgZGlyZWN0PTEgd2VpZ2h0Yj0xIG9wZW5fZ29wPTAgd2VpZ2h0cD0yIGtleWlu\n",
       "dD0yNTAga2V5aW50X21pbj0yNSBzY2VuZWN1dD00MCBpbnRyYV9yZWZyZXNoPTAgcmNfbG9va2Fo\n",
       "ZWFkPTQwIHJjPWNyZiBtYnRyZWU9MSBjcmY9MjMuMCBxY29tcD0wLjYwIHFwbWluPTAgcXBtYXg9\n",
       "NjkgcXBzdGVwPTQgaXBfcmF0aW89MS40MCBhcT0xOjEuMDAAgAAAIjVliIQAL//+9q78yytHC5Uu\n",
       "HVl7s1Hy6Ely/YgwfZTXgggIkQE5UjIaeVWFVHvKTDYR8F46UPqMw28iIEGurqIeRjJZKRemdkqC\n",
       "ALVJ0QrfWIBxv1cij7vT0rgXRfTdHt61TDdCDmV5C+JGcvAI7b07b0b2/HOQfqhqwV8m3DPWkS0N\n",
       "BSb1JyVdI0OBSHFK3MPMdxk6XhMnO8duHJ1ghYxrHYgWrA1SovKOx9qOGUJkWiCVDf45uZTxcSPb\n",
       "Q63gxdIb3HL0C3qGa/byzo5KymfpeWU9G2lR5YBFIMZFGENi6hTe3x1+MC+WaNKF/Z3O+m9JIueq\n",
       "sWVIuFPJG/gKzUztnp9AcQ2sN5kbQFQknLsg0xPIClgnVpyoAA8Nsk6WG1GyQ62SJXiK1f1Qlkdq\n",
       "7+XtOi1UigUfFZmHNtQgnLEb+uAVfFnBU7cTvvX/gbfGwXZdflpB9BaqqHrbzFBUqQnsKfWr7cMO\n",
       "e8vbD5alAm6bB4dwkCGI9NaohSoFxdH5+nNBEONcgK3FXT+g6tlKANohqp/GgUDxQYHeUupA0Ki0\n",
       "DQudiQKi5NfvsH//+DUd/1FK29nN1LFErQZVVbldyIVoQY+spWAHhBR/5m1ez08pS1pJsQRlRg3g\n",
       "2KWTzlqsX3XAOBLA6qJmn91P7gxluneXL9Qx9W5zcKFYL2UYVhqlnqNIGx56CpBobK3jb/rbuaMR\n",
       "mHUum8DxtwvKxwfp8WLiMgUHZe+B0T42M0sdQbiiSSaJWJERYJyNzlxdy5FvpRNjTg74d72qtfVT\n",
       "abkZ9mZC0W0LN+KzTWnbCHSWKkH/K2XM5gmI7GTU71QAAAMAHcS+v9zIciVAykkpKZsAX7wKqRH/\n",
       "qg+uUgM+zbENg9vIXfoAXfgKc6j4M9FhzRlosodhCbtKDdR6HUujeXniVbQt6Y+81hz5LqdCq/Zk\n",
       "QG0AB3QzUr0BIrGOzoDcEFTMMwPYC2qcKZJnAltQcLcDhqMYWTfqrS9uvfEp8N+rzDc5eqdkzpf5\n",
       "m/+atBBL7UNfZVi77bHoVpPjm83C00sV72Ei1G2WbPvdRheJTnQgUrLf/HNA8yH9FSbwf5fYLE/0\n",
       "sTJXphPUYVaeghuJFjDDBk2k8rwRSvHcuW9N0qdkdUhj7FxRU3zOmmig2gbWLgM04MBgSX2yWOv/\n",
       "X83sRm5ggh009kyF01mM2wY/+LjVDD3ZD5c8/9yZP/6oM///H032o9t2QOnq1A26hHaT5E4966tE\n",
       "pGpT2a+OEfLpLmjNXQS516oDvJyTYADmBMdBVfNsS0yAKPHC5HTSO/QjOqEOczytYy4X+tBOzhm4\n",
       "625lQJRPjcgb4jg7vNulQAOKIWjCWJCQ/qlWhe+CqJ3Skd8ypkVPNFhBBM9MANFNItXNINwHjhVk\n",
       "Rxk8paAAi1fb76nCAYME3WydHLfYjkpd0QUzLDTxVx+uxlWeTLR1Kkv0m/Kqzg8bEwbycNIA9lKY\n",
       "vP7o9K94d/r4GgPWdatwgCOi/T0qRaSE/yAIZqDJbAltSmwFca7sv7FBcF1AsGDztSvGujf1YuHi\n",
       "fK5BaiVWAwUdL13rWkMNhMUzAA5D1JjWVUZrAI7VnqzNh9phlRkDBjJ5Cs4yGUNjeBH7ZjVM3DA8\n",
       "sUWYnqnMuoQQBkgFgoeVwNz6PFJe9RdgGpJ+YqnFCXm/O9lc+U6RxD63yN/wHW3f6yyXqyXo7ytL\n",
       "0P/ELcbgT+yzS9ioAHz6ta30iBeMplA5hS2t/3iNHD3YVacpGzkVSzVZCYaQvwpxs0ERn/qB0zuQ\n",
       "obhWXaNyT8B1D3Y4j9DgNUxiWGu0SzRT9sgBcDnfQJ+mHcHuB1atvjU2/JwmpXpa75dEU5Zu6NYw\n",
       "0hldU83G/TOdssGA34hAC3lPuel+CKLqYV/5frsJnWAsbrzm7BhuxfIjBTEN93L4NqnqMCcZoM9K\n",
       "i9iQoVKLhd6mcC0ISVPnIdCoJMBoMgtA7QprFMiZrRpTQTi6OdjO9oLVE+W0ORbkBSejcno3HA7n\n",
       "4BRErRlasiR0Y+wAAtUCOWe4s7q8wwg5/uHX5ySTftDxS2+GjuU7HpMsJPoLuuegu0uiD4ilUSNM\n",
       "iywaAB+AiD9a56OHpO2ri+lUeikdnuLrxQ316zKrnY5mGDXK3KDLXJNO2DxOmm6kdvxjCl15IjN0\n",
       "SIp8KP84J6SW/JTbStkDWH3i9VI0dw2QEICcqJTRoVvDwAYavLG+zcgyreasFUlVIlljwo8PQT5b\n",
       "jEzKj8ZaqfS0fWWwBHbXiCk2ix6WFI3A9Y2dVJUNcC69scoTzOU+tA+vrEqbhRcr95DMe+57g+5/\n",
       "DHsSt9P5sVyRhKQ6wNGueATn3GdKAdfGiHHaADUyTKLXKzpM3Y8fPFXy+TRRGme86+RsB+G7LEx1\n",
       "fiofZ3Sw0Sxio49c39ma5gZK9PExXRn5/mJwDH7J7QeX+AUf68xh6PBTjM8NO0v+AABE3WF1z1dy\n",
       "n8X2jbZkchBVjPL4WF2wMjEp78e30Z6dMD1zbzkLc8jTYoSa85C7wLgimaCvCrW/Lag9maw966Gb\n",
       "1hIioKVw63SaZ+BwxPG+JXhYLfZbSlmpifBmsAbpKLQce2On8MzAApOKAZY4fNNqYnweM/r/j1qh\n",
       "HfkQtkx/sVtLkQAhI3MszqdK80Ri16F1iT7mHmV7AR1lWgulXyGPElrk3s5m9hiGj8+ftwnj9d5i\n",
       "eplXw9koVKi5K2ROd+Tsemb8qhfneAA30VtBxaY77FGnaLUU9tMg3O2V797ED0367+EGUc0lnhKC\n",
       "Xk7RUZxuwXjwLo0uMcSZlb3K+h8oSpEx1Uys+mw8ZlJY1sI4wEjN4KF9qbrG5qjdWvOcWv2vfMFP\n",
       "T67rb3Uqk+907AFR340VYbHHsIRg9y/zCjw2oHyb3WkXPwv5Hp8lEcTw9fQM9snEw4OxOes9sN5o\n",
       "wjQABLCBJFGW2H6g+RTtKxul4qDTECax64D3jfZIlAnbB2lo2Dt4xnc3bb7ff17SQHEcWbPUqMIY\n",
       "0DORpe57Zm+pC8nsntEHD1AjN/q0GURGncQFb35CyvX9V50V5Q3PhXfcHuB3uoLGb2eDU29SF/yC\n",
       "SuncbiOdAUX65SJ4XmoMiVEQnDakrhXFPDaP8rcs8qHJjK82JpoxdGQZczq8IrHPu9zFQiBXLbdL\n",
       "Uew8lu8K8T5qMIIJm6q9gwpY/bwu7wE/aGOLfdtx3pd5VgmQ8neSPCHVMfFUNln9wKJ4uKBTb9rk\n",
       "Fu1N0acaLOOGm0rQSfYy/tYfz/7o0UsYGKAw4KXqbi/VZHWcKtyR7S8W/w1vLj6Wqab2wemsDbdW\n",
       "iPfSJOgwVaYAbyvpk7W4XesY5Fe2aElazU0N8ol/J3D+R74valKBgkn/OFlmoaiUL4Lc8z60xL9l\n",
       "PUpRUYBkz26hPcqV99IQDSB17rxcLik+G+nj1izGOgOrrJA4PKOkaK+JRF9ArIR5sBbGEER0PDVS\n",
       "+pRNvfwgzb9W9ODBSGuXg/lm3njGe1k8EohpUxzNl0JSV1B6HUeMBoerWDsvrxEGxAAqbEdoUzSQ\n",
       "iz6jvwFZRLQTHGq5OfpvW8XOYW8hmRMjL+DqtfZ1a/bSYny5oVz03wMxJGg62bsaf5VQfe7EpQ14\n",
       "0cvlzTzG7HP9JVUM2coQ53X+CcplI97P+5BBZTYFZK1YZs5j5KNz55fsngDJ7zNXSlN+RqohJPii\n",
       "lWMSI33XU2UM6QUUIe8+afP1jdRlc2QfvPSslMqcfT11eYBjuN4DaCH4xZmrPDpmyhH/x46T7eEA\n",
       "x5l5Ay+1IU7uaGSPm+C0SRWy9Qq1GLzTIzRw2nOjfc27en+Y//rcYaWQ1utUyHumNOdFIq3QKOs1\n",
       "5JRANjt+Njg0sd5/GcIcX0PViEoEzoiuiyoK9PNmX5eRaQ2QcfwXsEzlNfe+Gd39+PVU21pKZSpl\n",
       "V3/GLVpbhnw23dMD/eAdZZvKLSWqGrjQRZOXxuW667UEjzC3sOpljrETTUHpx5nW4Ys9IAm4/XSO\n",
       "aMCzUnlB+z2lu2SXRAIWzaa9W3mDzxutrCOM6ZZu+FSNTonzqLes/Zk/VeyL8AdnNlQ2l03iiVz+\n",
       "uNvlOkzOqr6MvI6vRKnwAXZp0+5oZlJqJ7GqHw91F4ONEVP3/ZxScl7/yns0U2cLASVuc7I0U8BY\n",
       "28JNPeeyW1BlVmVxuMjclqDvk4gh2qkJw1OBnwbY6r4UeMVTfMxas+D/JKwYr/Vw0lpbnpMVbe/q\n",
       "PQdl+zQ6utEeQdmAvkMQGrufevgupk6mlqRCw1nq+aZfL9wlX2iydbpTlAQQMpnarAg9DzxyDKfQ\n",
       "unAWjFUaZrpGEIC3X9FaZVACRZwUJxBFIBGrZE460bbqsJ3BzyuYbG2eyglZTarhzA5t2U3z7Gzr\n",
       "54N1sLJMFpoHPzzKJbimUijdu+jI8CtZ/lbwWzk04PJ1FNUXAAAk9zjFqRnEC1nFepsoPpgNLXg+\n",
       "ostJrri8sEmn04QMGWz6StVVuE8dcvKyzH6XDP4at7X1mIG5MhPXlzEKNJ3uI99MhU6xmYmu0weV\n",
       "YXg+YUHVhdWQMQChUeo2Msa9+7B2QanLKdkg7Skct6G6EeoRLwWHM3ghKU34z3VXcvFUsKOaaDga\n",
       "EKHgR99S5lWpPhQfb7fuhiVCRcgnW0GfgD54uyMOkfeLqpo7O++8ZZOqztdUYCqTtVd3LR24mDgc\n",
       "ehQTIdBzoL1qA+B+12Ghg0DGybvefgfaDQhafXcSXkK/6ua8ZVR+U8q0gfnlbrNWTekcXgyMqw2x\n",
       "u4cNbQM2x6kl4uWWJyN5XwhrAnaa98YOV3zYZ+gvMvCrf30Tx+snrjwb/LCdHaj1JdVlemGW8D0K\n",
       "mkGW6djmXmfPfQO30Uu6tvXi2GX+dF4wvvtk/O6bom6pGx4Nq9YbzhsO89m0LW3+OMF2ru2WUK84\n",
       "y5zDPn1QpTIqasPdho/Uc3XQDL6NF+UgBOCeU8OhDZseLGZ0zJpOoZ1zumdgQBL9Gqc9kQyJ+SZL\n",
       "h8jDY6MWmISjAN2wSeOtJligvKY9oxj3ngPmK8gV9ePEO/B5rBygGtCYzf5fMbeKVAsmK4AM5s3/\n",
       "XAPcoIotoT0ZkOGjIIzmRhOaHvgdjBBpqBv0iJOXRtv3KCmGftHUuzzV3X5M7QcG7W85O2xglBBj\n",
       "fOU5mK8xe2JnKmyHZQVTGXij1HGkH9PmPb+robACjMvUXFnUzawpF04Q/+wEhDcYt6j/Xqy4SQrt\n",
       "E2RMR0/wGG57iVQiBOJpeB+RJIYQK0fjH2EbsWuvR4Dz+ydsWrpMLiA7ZiMSJj1Etc9rDl3YQlf8\n",
       "6m/7H2bEJ/zYedT1xPAslBzSM19XrvMbMHwQOEf/js2pUnEo+Wk4hUpduxvKAf5qggIOgiZKQ6LU\n",
       "lx5G2KFca3dOHGJwGVqXLhQz136QLO+sTPf3D1xKMUuSAgufy3mhEF/j9zFtmnlpo+Xn7To2pJuN\n",
       "ymv4QRY+QiflYETnF0kyOngJT89snaYa8oAPHk/tUeeDipxtXIPoT+JRFHxeABcC7yZxPL/bTfCl\n",
       "1Fl8zU+oNRVENp0wkyr/uPBHMtKAq5UTyucOPCmjomr072PvzgKYrILUdYqHgN6Olal3JeT3Y9rv\n",
       "FXDdVjiVPigqcohnjDi9houi+zoJmRGw602f/mF1U4IfI8iwZVHUb8/nTyI3S8WL1voMtOGVwK/T\n",
       "7OF7l+mfm7WUW38arD72w/Kly50Cqcq7J0KPpHrJYJ1zJqdgguf7k737qioAru4JDWg2tu0zgQf7\n",
       "p7iukeipsVOfvhgBXq4y6uKFCA7XiEc8LFS/NN7AcjCV4iz9NSD0rC66aInsbI583RZdTX3KZbhj\n",
       "3uL/FcVCicmnrAS8kjPnSnDubxUF3uRJHPAl3XgAJItA1fYvhEQ8k76rArLkWQEm6d31FGD265BZ\n",
       "/L7+IVrs86CcFkRVtvKIyZ1vIwO2d4mbbuRIcwV/v92YENFYIQMVuXxn3/1T+PJkkRHcsrZPfquH\n",
       "RuvwOJ1lDE0tu1sxslnPeHKrVlcOj73ASTbzABfR+o6MJDNALdJBMyj4NnVa8rwUO5WVC/vTBiQM\n",
       "bEd/zdHuTpZObCaCCmKaVxePgR0g1YFK7ceENcnRm3MiO4+GCPpPRTTMqtx6evzIH8x7PiAvmuH3\n",
       "PrF9q0a9u6UAPIAAfVrXrHb7R0q+xrHIIwjrBYguGPzCMLO0W+dMNmem6obHicNqvntO2xXdjg9L\n",
       "BNeJs4HLQETO3WY2CKaKWswNUjC8Zd/SqTOOeBOTjLc9EbgMJjJaMh/PvNBGFaoWuALfc9or/FoP\n",
       "Q8pJCyyN1UPIDdtzzDjd5hIisUnFv0cZ0c3mkccitbnI9ue2eon9xP/9QA54mmd+kyXBaKMdAhCp\n",
       "bOWVt/5/uFUY4jdhlYHLMxvcDEJeaq3dl/G5rjf/EyCvBo9iZFBsD7T7lw34UpBoEF5LV0AIv7iw\n",
       "37hOc/8z2mX6dPp2UAIpVWrcRGMkWKQ3ZGUq87VV28Zj2fAUoilLRzyfkDEhHgZjOcZ9T+wGRkX5\n",
       "5zbXvg9SbIqhgOL+FJUQEBjy/HcrUqfGG2pO0here0XeBTCm/91ybX4imASrd1DTT2tdGVSaKRpD\n",
       "EaXMt/GRna20kODF2Vv6B4Pt+xqYk6fSHIMzG0cvHzwDxB8b3O4YOw2Ww95fvrGPXoWlsvdFnM+G\n",
       "3z/OYdrwU5kAjHS+VenBvdRFEologctkXpfaoMro8y0/8JNpwrquBuunqu0QvmJwfJcMSLvhFson\n",
       "tT98/jOPq2PG6A84IYhLjM2/rLNkN228Hj7rVUg/MjmVtqEbgrn/3jQYiU1yeH9K7EkfmQvDO/dC\n",
       "G5P0gdmSa78rTU6iKoZnrehakCEvjMB1JY0FmH4vxJ+rNDiA5HqdSXun8raDaL2oRPoZqh1FK/uz\n",
       "38EeyfiI3U0HDpRtn6CcjqPG5ksmbt6t9OGHIj7QFWhhNG4QTtlTEpQvyx2lD1AQF4c7MfXHyeL6\n",
       "P9fi+M9D31Sz+/zrpUnhack4Q0UgMMFAeiLRZuJlaCMMtXUnw/mzVTrSB4cgxtpfp2gi/tFuxKmY\n",
       "pN7agkkbaIT8wZSFl54rc5g3ghey9lxMeAx26+Sp+WQNQa4JEcr9/jy7pBpZvBoTQ56TiDC8GHT/\n",
       "qT8hUQvFnHaVI6WSBFxj0kl2LAxHuIMQ195/VTOVRSzZ8gFdezgPPC92lzycsdc7bn1dkIf99MBn\n",
       "P9gmZEn0SqpkoiJ8U0NcsCu80p2kWDZBf+HURxHUjtsU7CZYMe3wDJAPbD1f/Uw7bkzntz6Akqtn\n",
       "ZXzlmtl8Us4vWyjTewYR+ymBWbz0a9K90EnBPREN2IPzfmxvM9ZcY+mr8Er6B57w2Fmq9G08t3wC\n",
       "VBM7a2KmzV8GD0beeGiAsGnyY4yfgWuVUvYMFsAv8r9aZ4j4lx8Rgmu61vEUYXE6iZs9TgCbUwb4\n",
       "wQyClK8saBOstEgZGNg1NJVZF+z3cET7g+blMeGVd8Dhrpqps1fJXq7P8zVhyA9kX+EgDaIY9y3D\n",
       "gWxdrIIw3NzQJwm2v2RrD0W8ggwEOvnx3F+0bgewfP61XwMld6b1nAah/hYQW7GEIm6cX4mCnQZi\n",
       "PG1bCkoRGzUwfp7cOgvFeKrSdhCijG1znfuCz7tQdgIkjViikKRYDuThj43KE9DDPZuLfSNetVwB\n",
       "nrQsTlZ4hGlEZPeEQujqgn8ftD+OEfsOeGHLfX+3f5UfxeM7BgDH8+ptBP+pGWptZcFz0M/51OZf\n",
       "7XmXzpozdXgokZzYJ21V6iUzwcQc/ZWloKVWT9BmrqfcZQkpiCvHz9fFPCDIwGc5gwfmm3Nh+5Rj\n",
       "laRGHp5kBjpuSIL7v1RMhdTl25hztDbTnL2A6HPPTLQKHoVC2bzpmUw48aG4LzG/NiXr/Nz15mwP\n",
       "JIW3kT3fx/3di+J1b+l3v/0hrrZw7VdlPdevC7IjPcnDntfjzgGjkvc83HXctdvVtkBH/OsaN/dv\n",
       "FyewlMhrN6GYOeTrA3BqUovGcSYDlDYVKoFxF0pSEE8UDpSuo3jAnj2NCiqHJQz9YMRROy1sLMYf\n",
       "0+Co4N6ODoJGpliqDaN4jn8nkGhjSs6+U1VLVQloLUScPnBHBK3/9P4T76y8mH7pxFNw8wbM8xW8\n",
       "9krt5VKLrCETMuovFF2un0KtYJPGM3V2SF+NYSLLp1G6G/B7k3s5X4kclxXninYNWpeTouOnJ1xG\n",
       "SIlF9wnC9DXimFhTlBEHyRLXHl/fsgqpWQZt0/8UtFgvNBrlwpvMCyslXlBouf1uyxu2N2+ikTdd\n",
       "lsQaMQfJ0Gdmpk8+8fYB1ZFLFNRL4c8nx2iC/g+77RYO8HymjD0wCxcfPAIVThDjyPcf0CRX4xRe\n",
       "Llc7UWnw5v7V0h192oIqfi2btN3Yycgn/fNvWgVMB+zhVNlqZ63WD2CO+YJ75w6OQfCrv6j4k5aO\n",
       "mCAhaQDjhCQBMJKqRGtvP9townJPRxVCgbe9TAZ4Xng67gxlzsjr9oN+/tfgYH/yRvTmS/a0xJLW\n",
       "r2axmR8Z3zq55U80QU93amEvlHy8tGq41hPzrrEZJHeDh+VEeFmE8TCiVpFkPBEbxj4C3C/K4vba\n",
       "+gfQ3xqgptH507rIWIZWFm3Zzjmh5/cniB35CpA0ZEu0sO1cJx8IxmWvDsLPSM9alfAy2c+/4a34\n",
       "42GW5UdnflwyMdPjWVidsX0K4NVps90dnHT2bnxVj4N5SrwWt1Ikh445M8dWPAYas46pLIyM/BiN\n",
       "jtCflWXiJvmu6wPjd8xE5xJHBvPkwxTkxDxkJJawVrdoSHeWH5DAqGCzbxFaGiZXahp6ZLaG7WcM\n",
       "YBN3N+74KS29YHe6GnlCmSLNm2BvFXFrs/A/564h0iylX3z2IiAzbK11vjMhvhlP8f+QiwN5F/6Y\n",
       "kC9rSGPmXSq4/TrWuAPK3MAk+rawdUKbGftcJKULhuVtyKt/94P+3ukTNivyKmJd2JP+D4VoTDJu\n",
       "85HtzA9fv3Wni4wMA4b+ofzHOYHEhQLISGRJs4AwSBglt4Nz0lSyRxN1UP4H6KCSjLieBKYTupwQ\n",
       "rKZn63wpbaOHFI1SH0fxubB1+YZI/Ta92S2DoMxc3huhw5DmNpfC2lZPeE9+wUPRo73+656hzLo9\n",
       "rPkqxiD/DpuozSxL0LAg6/NP32gVuFwNkiGWbdCHDp3wYe2Ls+o+lLlxOPmwXTRlVnbVaVFLzMbv\n",
       "gb/3fpV0Ro1SioF2Nwwc/dCLaOwREUkTEAKjdsWERlCjrFMXI7jKmt7tgW6gmQ4Y7vh+oOGIWX2k\n",
       "5tvgNk3G5ydv8tgtZAjumxKCzZBo6UV4lQzOxwA4IccxtcII5RiNQ84M9N1+NJ8yykenDc7sQjZq\n",
       "0lE1/Q2RYfUh6V/vgZOZ/ReCtszwQAsx02Pk4MkLCzoBfpAOrZ3B94KYRaIKnGs0Lw1MgTDokliO\n",
       "+y5Txy62VersMk8bMDAGsPbz6+U4saVUV3hCr+7dfhY/KuBkhrk8HYH+CIZpo0YNis7eTJyjsf0y\n",
       "EtthGw33TcnKUS1cTc04dTrNzkWADhkWihtgjha2rxuI8eiPvjHmfrpcq5RE0t24S4qXmyyPK3kW\n",
       "4mzibSjX/97+Dmn2XP0KvWGw+WRiXLDqX5DPXNAukSFUei4aSLSo2GKzxMiuke+jnJP94y9l4xRN\n",
       "cZRbLbk0TxwHGVOnDs83J7KZyV/CbXcM+bx4Kz6+v6CSMI/36Gfq3VzB8yNOQ/DUvm4JibAPtrx4\n",
       "9fV6T2DOD2SGSKtjhHars2IFGH5j0326qvFfgFL4i5PZCsT2sDQjJ3xYnwJIMFc1NHVJi4hdp4/B\n",
       "Sc8/qTTJepjYMffI590JX+RGJovEqAT/H+jpIQNDioAsIrvokMtL/ebuo9clbzZGef9Oec1U+Qn/\n",
       "4Q3dU6ZohDhT9b//duYkNsistV1hF0+Y3QFu/YnUAgmoO/qV2U/nUdAL61HQfORChS7mSFGoiKfY\n",
       "KNGrXfcmbaJ95MmwpcJFQyFxEruVfl3/XqWnjZC0bceg1ZsVMvXEOQBUejjwyZr1t15y0HIjfGns\n",
       "EpLQhri9zKAJOm+DoWuNQhC92azQ1MzmL/VyE/Jw20qihI51Jz0tfOaOZGlK7O33Zk5SRgj4ERNZ\n",
       "4Hj5eUBsIfRF/7ArcOxZUgAcI8U0oiPotaC0SCtrH/hiIt+3yNAFBzxYquLPOhY5DNNkF+/Y1mN8\n",
       "nUFU6vmwOdw/TuHJsUlekoXXaC3E+w55N9dR6U+mccRy5ZWJNLh5Lf/92YLR+A3W6w8MIifwTj4b\n",
       "58P/5BlOLLaZjrIidWuz75zFTjiR6QzLPDRMaWu85bOb3RvUWsZAaAYKZJ+ryeHlZgXevHaqSQXg\n",
       "nbPfDFMGSvcoFrst/KXy1yVPzcC3TPkUV7hF/fJb0SwXmjQIAxInzbE+ogVrDKPHuuDIlutqy7mz\n",
       "hhDo/8/vf+AJrF7P4SYzru+Z8PTp3azidtpXrTsiS/ASOibvqDx6ohV8+FJ8S5vFc+2OTcjIjx4t\n",
       "PqE4vDzellxAcudwR/o5HuU8dQhP1yGm0Am3RnI0kaN3dvpnVawGApoS4BpNeQwlyv8Rqjje2u2l\n",
       "uMsEUIVvljAj9GVcSIlQyDWQPJoKoMNBKryOie076aWWuFaDZ971ZMDDJ7IyGl2R1FwbPaoPo74I\n",
       "SyREZFA4ykc4dAoMYUaG32wuSyfYxiaBrSdb5ShbCnbA9By5HMHr0Tcrz87e5HIllZ5bZLbFyLQh\n",
       "qoWIdWCjf1QNqE7j6yCgGqMb8P+x7Ye7P9ugThsbOlPTFovWbw0H+ZUqB5T9kJPeLiSHzWQ/sYZx\n",
       "97csYXs476WQQdbpF/CZuT6EbM/tLAOjSFiHeNRjS8cmtBSDZlu8/iZZ4BAz9OHui4o0geCkM20x\n",
       "i2cSKXFjA1RciTlO4shNNK8J/yvFsCFXQYaH56PoBg59x0vzCLCb+4e5YsdHFXyP4PcAvjg5n0Cy\n",
       "NkeAPD1pz9VqakppvjKIBqjbuYroXPE/1bfLaM0V26YV3BmAsinvTERZX3KWzTgBzlx/6Vibmi+L\n",
       "P+K0HfpSy3YuPIj2NlXElXy471V0a3GwGKxwTE8NGCl6l8qU2E4ne/qcmEpPnB52u+MYb4dmw8Cj\n",
       "CUixMZPFqPPQDZ2gU0FDrhlqNN2Ow/WdeAzR3J5cFVZ/7oJ2ypV+ifuedFDys92kn3Qd9ihQC1J1\n",
       "elJGFCRTwn/btqHmESvBPw0Am5mIF40OfX9gDuWrQ219uHiUb6l0oiMKRjQtuEGkNMlUkpnys1uc\n",
       "I7EfZASCJVnm9sYzSYGQqAETV0xFHftoxusnAShAur2TbswAKN7d+KXNqLoWbk7ILn5ybrO47AaI\n",
       "Cy6RZA/r4E1zGAhfA72HwKq97ZZE3ZSdDsLpA6ndyGerbGhO6exGgQx+IWcnj6t+S8OprqUsMD8G\n",
       "DWaQH9dYWYPNt2zTCkKchNjsqzQb/ierKFBKv0JrZA5rsSPMnG3Qa7JXI295a+aDfVW6V9E58Rxb\n",
       "ysNpFam7RE23E6sWUoVjis71Mt7g1ZurkDIq0FWlzdmErJ5QstDVLZF/R5gBZz8OR7vkNMuUOzAN\n",
       "KVr5SGD5Cku+4zZOrhG3ivlDNMDiSmjRvc94DKKqSAlUfka40xGfiqi4lFrQDG0f7Sc5NX2u/+KM\n",
       "gYKw0HZvWU7VaMHABG7ioMHUWl5nsdL0cVmqwMLl4FqotG/cBg+bvBJkusppQgiszonegRLlG2Pq\n",
       "fsoG1CfSIP+Z35csOjLQDJsECwkAAAJ2QZokbEK//jhhyFcAIVagbn6s9Sl1qrvrL/8fzAcenPRN\n",
       "WY77UhiBOgD3ky5sgDQNdojLt2v/apQNg6ChzgVt2UYREosbvD7lClokJZymi47RRgTKvAoSvi2A\n",
       "/NjMD+/JY9iGEhM44LKnrZG+bnRe6C3tLq76AFpa8bn3li4LGZYsbZHzVWAfJmFlhhdvI+a+66lT\n",
       "e9MV1nD8MAiEwruUzafE+JmsnBrZL/+fa086QtK93A4q5UC6f588SIgnJDGa9DhQvtx5JDULM+tl\n",
       "qF2jMao2wj/ap1LvCisUSlXVGJCfRZe65eCE4+3WRGLVG7gf8K0QWUbMngv2t7eZ+zVqWXmzn6fK\n",
       "IhNDTnWzn67Xis/+dLEXf1iufyNp9RMyAnzpf3EE0ijfyHzWkwEGqGBh3UhRQkz4DYEaoaWd0DfG\n",
       "eSGzpR2mdLOykPwzODIb26SnPhYjmZefasNNu3iwonHOceuzAyUOvaPurekKB4iUayQxL5DKv7uw\n",
       "BFOomCp6IP/2+XptqqX+LVkLAW1JGnI7W2roynDcfuuUAw5BUPtq+PTiZDaQufnfALPSYVHXODsz\n",
       "Kx+f7DhhJQvl1MrKsbn3J5OsFbHnRSrqx0td5dFZwrEfXtH2WmHtA3D6sq5gfK5vASEKbqtZsvcJ\n",
       "mdEwW2HvOES0zsb09Dzm2er6UprMZQgcGgacuVZGUxEn98pP8lDlsRExFet2O0TVsrDjoGheF0/a\n",
       "Z9mGC2rUmWFBbtSPfVyg32KNbRRadhSHAcjbQi6hmenObaTtS0w7wkS31YqFWTdpBu/mm88JYJRF\n",
       "YmtnKKZO4hWXdMVozJQen1/YsSgcP8kB+2KwAAABDEGeQniEfwyVUWYIqJXfGR5IapBPMH3CyBG/\n",
       "bCKVoR8ZhpCLDyAkhqp2hvzXDJds3z9bslcOH4AV11ujvG5eb63RylM0X7w6IaGSzxuy66HMwZfk\n",
       "ztI3orvYRoCsXqY5CF+vPPHKZwV8tzBO2dAuGcnctXYRsQkFf9PPw6N2TeB9Hd7UgECUWsJhn9ge\n",
       "hhfEI1nhaViqQITg6ImXljCa5sTtGJVeHKL7lIDFC/+zodHO0QAP9iQsxrpM4E2qht7/lJSU/FzD\n",
       "KVWUvYi5uOFTUxn43xzHikHkDpGqAp+z+qqHD6AASckSt4Ee4WHQO8Ngf5JcVTcr50684ZbJpNsE\n",
       "JMHJ4i3vzjkHgKiwab0AAACfAZ5hdEf/AYbCjSubgaWgBKjbFEqBctr6FE2dHOqkLlXcyB0RPkbn\n",
       "mG/oVBZpqSBE+L91CyOols8UoGIlRmFLT7V0/f2DPeMqNTNbdp11JVRj+Ll/lGzevHjGcy397ZvQ\n",
       "5CIsDSFdZD63uhoMk9irJKnKwRsXKkaUyTAmrRJeSdOm0Xtb5vQwkrz9ss/x2MvCOvgAb6kI8Rtp\n",
       "ABcGrDCgAAAAkQGeY2pH/wGIh37PVAXWBpVPoA+eHzxEAC6AVAMq0jI3Xxg6kVndecx1QuBVEuNM\n",
       "ly1k92z1bh9zYaB2Lc35jXUSrv8//XIYbdhKf5Urqexmha6TcNBNwcoCZLEU6l+76gaUrt6ObcKJ\n",
       "070+282t/YRGG1wEAKCZAf1WQkvKymGOWdYapCptrhtXykNyEt51A8EAAAHIQZplSahBaJlMCF//\n",
       "/oywAwJuOyAADoAHi7agn7zWkXMjkgz55B2aq7/E53NJ5fBzJJqhnHpuOKxR0QzLx/OKGNifAof8\n",
       "BbVR+bH2FEyQm5GRUpxKhli1M991N31e2Fyqy+gSNDqcufqxkpjYt337zZbn9nwVq+YdBLpCC+kP\n",
       "DjCMftnBC/4cALmjgp91S2nrHBg4eQms/f8rV39eDXgqvRWergRBWWoG77D8f3YyThDUWZV8yEXG\n",
       "hQVT1+S0QPUwbdTtBktcX/6qLLZYZKQ8Reu9sqssO1+nTf46sCgpIrk1oAJsRszkWCYX3wVA6QLA\n",
       "gvccIB8U2uNjoQ4VLCn9jNdNcJj5DB9Np+ieoYf+ircL+JCIxuCamb5svlgWVh6FMp/tRC8hS0hB\n",
       "PiPHHWpyT4bQcaWSqqIotfT266FwADAnEeRhqGYNba2AhMANxsGOJkkOogkY288AIoKzzNgWDYOz\n",
       "uEGJX2isXa/53Vdraya2qtvq/6nwVThWoNailtW0YezNSp6+SXdzA9KcafQQ18wXlcz4t45zW0x4\n",
       "7eKEMY+9KkiVMchZWjcY/8rqdQZGNUbL4nJ16qmN+e8GWFvADpuivTPVgVJRAAABR0GahknhClJl\n",
       "MCGf/p4QAvgLRfveZp+dotTNPmAHGJxhlU5HE0oe0oy/3XgJJpEOMJWQIty3K5SIwEw3BT4daXH9\n",
       "p06RRvlvXoEHNgSpOl5OctTE2px/zT5Yrmz5kXv5mLP4Q/ouM4D0/PUDGxbjfjReKPy31X81LE75\n",
       "cfiCbW8QpaPNJCc2J/VpTS7AZ1uCUjmSPKpRhpKWUDucLc2LQwmYb5M7d+Uu4YsTX05dVTrXFgTq\n",
       "ZIKqYlw3KE49ulZMwZh4z5yAx1F+rjMq1QBH5ar0klHPbT5rglQ7w1hWinJROKpUhrkNPTxfJaKh\n",
       "dhx7lKJ8Lb0rwNAozstlkN4T3YuvTje4y8M9EjFg5Ku5hegWxHzlVW+1eNx7fHqZlVV+RndabHPq\n",
       "pnPSrIwSwZzv5dAeQn8/8OqZM/KZd8VQyMU+IroX9cmTsQAAAoRBmqpJ4Q6JlMCGf/6eEAL3YC/e\n",
       "8zQ75waAbRYb2gbVRADaJCEQ4gwMzWMIeSfM4NIwu2Ewv+UOtCDEu2Q4c7mYzUY92FKJ/henaQ2r\n",
       "fSNXlwLUFeXw2IlShZNc8NfHiKsCO0uGf/Oe86OH6Hz4i8PKQ5Ub/l5q2kLI9tGd1MqG2qzJ1i+/\n",
       "jqSRhU8PK4sYQZtFhbGvsjWxhcNaH8a+oJ3t8Le4WEyjljJ2bsMS9bwyN7Lq+bJM1TBkopn4QgwG\n",
       "2xWwAxNXtvAm24zaBeVMVdKorR8Vr8SHDbH8Dgm8s2wCMH1S7Y6ETvneGAYulZKuBGtp4ifSkKt5\n",
       "m7pcyjBwlE4rkY+W0CBZOGPunt691kd4gS2oNPH8hiXlYdxbwwYkBgsiWGVlPvn3nwt4UIoY8DcU\n",
       "qrlCBe2EsgeiTVocp4EVLv/unHhPCPcyauhES5rD+W4jfajjEdAiXnn7xoJNV+AONviYnOcyGdtj\n",
       "ezbYZNBtgvJqTXqRhNlIJ4q/8YpYyAgBJlnIcHBlzDvTNgSCEjWAz3sAwVgrvF190JoPI8mWQq2P\n",
       "1OcpknV7Ddy4YPWiGhr2HcsE7CIQv1UyPRQvo02i3NO7tIEZvHabKKeOPcpvwHRxhvNZN12d3+Td\n",
       "YYc6vfBgCUlY13tzIksRXubnmZyQum1r4zkHz54SBcgoUlQgHrT5k/+XpshgdtxE1pU0KYNlOE+M\n",
       "iwk92pbso2ESnYyNu/ToMMUHnsYLyEz+oOHuut9f6Ypb/javxm6sSbAZaF9Q5E0dibTdsS4XX/jJ\n",
       "DMHN8jzI+DwA93tA4uVu8yEyJTqoFjnJ9tUT+2M1CUFQX92KEAdP0PnWkbOfR+duE1ypGm6lKwAA\n",
       "AQNBnshFETwj/wDy7bSGX9hduW94aAEY4Xtb7GqaoaHQdfjQiyNaC9pTgIOawaFQTq0HF5rQnjNd\n",
       "hZ6pIxHlmrJUzqMkkevlaWiP2EEdR6NSV/t2KzojRq0IatfGKZ1QJv1erV7uOPeJJm2AMP7Dpkh3\n",
       "Lk4LEwat9zYtIm0allyogWyHkm0Dr723MZ6Zrmk7VRbG84TGvmH2cacOvjHTO7uKcMQEGj7biipV\n",
       "4PMuwmhjTfG0kojm1CxWnW3Suv6HxFKtabJYyv4A5LjjNZZQdWLFIGD9QJFxhUO5gXWn+gRg0u8B\n",
       "QXySs6RRwiJyZ3CQawFd7fwLkUQoo6Mc86zNtSqXCIyAAAAAhQGe53RH/wGIpyShG1sSt3k9JF0I\n",
       "bGBNcQvdhE40llQNLq9QAkn/7WHMgRVYCl9KeCeaZyMNRNwiym1eY8Xnl6zm9+UgFR0Gw5VTiOmy\n",
       "4k+VcOwrt13rlPW7H0hOccWpNzDWI+/9t9Q1ebOMKN1v9/dlfyI9va8MxWWVUd7j8Gvfi7ngsUAA\n",
       "AACLAZ7pakf/AYfkij46w3OWUPF+vdm0ALMJYJdn1EjmFWlJqJnMHjmZFwvm6jg+60ce4XfYGrt0\n",
       "yHL/Vck+yYf04y/l7JRjBmb2QokNacxYQDIZv6vPRgAH9Wf4QDtMjvpRxe01H4qfG2AWvMdfQ8UX\n",
       "UwAvDQl3SdFjc1WAfo/8Vzc7gfKVYWYeTq5oiQAAAgNBmu5JqEFomUwIZ//+nhADCzytYgKH5agH\n",
       "41GKsVxetH1bcuSRaQUBeevB/nwVuwahOrP0mBJ0jamkS/YGQ0wyP82N0WNg2PbILT1mPfRZA/eo\n",
       "NsIHeVYu0rE9aVgGYk5qfhCesCutdu2DUnpvYKSJL8SF1zAjSWysT4DBUnNOFY0scmMEoLX0vmWj\n",
       "mIj/7Vbn+RBCwlLB+laOXQVWxkMsB+VaczwWRZlOtSAL4+twX9vQGpjBoRIH8j0v2SvI201R9adr\n",
       "N9vDa4M58SVGufXIcUWivgwnmxc6bjkaTzjNdp9eOuLqDDODUXKwduvTEQ7OTL8zmpgIA5FvI2z/\n",
       "KumwNdKBM1AkOfY+bob0KmXP+WkUhZ1USahMUkLKgv2ggjpodu3yHtdfWrDk9F37lDzz1L4M6gWO\n",
       "/2/5yaGpkKBB5iC/+ah4cmIlXgXGORl5ScKkB1fb21561bThWYFLwzOF9vZDY4hJBjlQbGamkjWt\n",
       "ltVkMCEiO+fZ4W9y8LRSLdwJ2dhXa8mBBK1crMbUybnXL1PaTb9EnrVFxYK8eIlAcahv4mEqVriE\n",
       "SQIRvcR0+VXjYhFROU19UQokbduFJZBGp/Vsu4Qs9bPUJlv4eIyny9iCMVVgr5r53n8xRaLDWpjR\n",
       "LtmSo72gZi4vyaD1t8UrSqOqJ/fkHVhyLRlcurH1mqWVsAAAAO1BnwxFESwj/wD2BtUU9Nb4BtTV\n",
       "5YZUkALC23vUGug6HXz/CaODfDkfqU3FGaW3AVCCmE4egQB6aw9qIc/DBqYxCUPZiADbLK+bZXD8\n",
       "kBykAcECsQxsQEkhWFXQCZR50Ow2C+0OCN9MFdS7HHKdPFKUn7dthFRuA/bW4Jbf3brwouQRivLD\n",
       "WN8Ci4FyxdvfyODQ1vXfTMqNcFR7n7R+xWJJuIPek2NG/+XgNh9XG2m4yvX7/1nfz2lQKc1vi3ZT\n",
       "y2BlBkSPbmC4mAZ7/5DrJYDAWJSjDB8wUWb6Tb1ndccu8yxDsu6TjRT/vHRaYg4AAABvAZ8rdEf/\n",
       "AYinJKDMGG0h7sSMNoUkye2oIwEmv/dVRM+uBukwEDXYXKnjaBRZVVuJ6yxOwvKkHdZ6hjnFObc0\n",
       "Fk/8a6FNLboku0QKCiQ3XtKC8MtKJFrv1RSMaSlKP4Mja9coOTROpoGoKDKQxalhAAAAgwGfLWpH\n",
       "/wGSWLZRXIpzisABZnTq3nlcmXctpreX8NgzjyIbn9WR8S+UOQsxu6+r2qFs2RCxuNKuOeHkqonK\n",
       "jgW0rTfHdlQ72szSzYH6xKrUYJRaPioj7MPimM/b/uaA0MuJARYWmXs1K9hjBbHsFAYIljJECb1T\n",
       "uJNNpgeZY6sNBgfNAAACBUGbMkmoQWyZTAhn//6eEAMKwDq4BeT9QjJf7giMBizdNQnBCIq8tKcE\n",
       "Ju3edZ/nbzyprNAN/JqDSi9lPT+bgJ4PAMh4zASyS3S6+pyIM763wwf8OG8IA0j3iCC1S4zce552\n",
       "x7e4C59zlh7aPDuRssX92eIScRqq0SK2VHHKUYIk2qgpi7iW2tefy7nMbC5s4T9THeFhyndwXLsc\n",
       "8T41Vj964JXnh3e8ERtILkYtC9uOfrHSnGZKMrRSgKvbFh0ZaVqAhz9nFikmwPTdA/ukyDSipY95\n",
       "LSFgCYNnntrld4RdsrBsYXoMdGtr2N0IAcF9BWhqtu259hKiEkiNtgb3qMN/e7uIQ41tpSBIcpz7\n",
       "Tsrc0lbz9HCiR6PABC8qF1uOxqVHoPTC9gTJ+NBqEZ0UgN+1VGLHHs6VF8srDP7W6y99KzCweN80\n",
       "rYpF2GheJSeOwqZqqkzQso5Eh8tozdTsCHUJwAJccEStIjAvipE2AhmVBN//urHukmi8o9nLey35\n",
       "uY5IQXFN5n2gJP8kjUqjUI/Paj6pz+5wAAMhsTJ/yRVeTP2LHh4DAC5tDZaMWVMGtmAbFJ7aOLbG\n",
       "YerehXvv1dztII3WvNeLFiblmaM795Rt422nul6YtAnJO3OmLVm7/qpi+kR5AOBAHvkAg55ECey8\n",
       "+SXh5UOkdhYcPgAf8fKtXzpQW0EAAAEgQZ9QRRUsI/8A+G2iQa+ZL6+AGcP6USbGVXdUsxtZYT7s\n",
       "WR/coSQtMmTeHjsFEsN0u3xRMO19z2mZUp72jdxfm2jRexqRS7VKpWpvgAEE2zzm0i/y6n6xvilT\n",
       "QQU9PdWumXlI4S+wcWLh5C1tGSy3dF1AZmPQ+F9ORtefgS4d04TIQ3NGV50zVPidQRlj6DR0KPQZ\n",
       "0lzJQkb9dkYRNRkxaUh2+cw5iEm+yo/0rSQ3qSDayDNiFdJ133GCtzRG0gbKoERKqNsJhLaJsCpH\n",
       "uW/Uy0sNWjMKLtjkXhWHuQhJQj9DwptqkXvbhNUR82IspNSVukvsrxr14tjCoP+ERXsuBfC4ZvWW\n",
       "REuo3MLfeyPIX2mDHK1Iq7jpd+moVq+ZB0NgAAAAgQGfb3RH/wGRtfS4rUnMRtcCKR0shxzwBO3a\n",
       "5EefOJ9y+o16M3ZxDbAlPI1iyBz12XCcucQ9BPHRh3KBSyY+CSkl9Ai7QDVuPxBLuAGPWmptiOwq\n",
       "LKOW9h5NH823Hk+EVRDrG0txRu0jHj9ElmZUA3hsQ1VbCv1ZmY4lQ1o2Vvx3oQAAAHUBn3FqR/8B\n",
       "keQ+AM+mlkwb7LaTuPkW/mJKhadPkVooEv9a/YGnAz1cX8PR7pQ+t3N8PBURMvfGiIwEsVjB3jLk\n",
       "EuLQjb7DZBvkqn6lgNej8fNz8k/VoKxNpaTFTEUILrZSb0jn92GwhhRoDDCMJvjd+GusbqEAAAIi\n",
       "QZt2SahBbJlMCGf//p4QAwwjzCy43FkpytwTzK0K9jnh1swnJXtSGcXQTNlZRTD+dO1cvPo6Vxla\n",
       "AC+aU9OQzVF+yvTOjxlTFPQhBGJiLLfMOiVtf3MlxvzCJ0g00GsgJVRk9Y0eivzsHSm8GLmun9P+\n",
       "Z1pmRkyHn1aMDpYYRjFo/AnQQXjbFiG/qcyAMsblg9VNr34Oo9TpxOiQyO3m3FyDKHV/dB/wgz9x\n",
       "LSNtBPHyHCChlS0EcDdM86GlvLCU4rIZpfOADXBj/9ppvLT7iiUgWH6twtQatrSb25ZEDZGqILMR\n",
       "MK6TanGG4yIvGCJqCTbUl/0Cak7kqvy7HCBzPh3UX241uFSsdMwREN0CdLBdCSk0vNElA/kScP7/\n",
       "4gdZvNinjgK4pD1AZnc6dfL0MIwovTxTBA/v2Y/P34IfzkBJwqhLbCT1wHvDQsqxCTCQKj41wpww\n",
       "wcWXyRFR1KoPjHtVcqnfk0K9kvZ0Ycm6XfuxNe2QR/kITLfaHGYfOfcMqB93KALwZkONT8nID/t/\n",
       "2Ir9lre3qHODjqPE+qLxJtIGu/98HLlvumyARyjvBowtr4lz8dj4FkwtZZaG1Rle9JvSd+rDyamP\n",
       "IusVZNGeEBQugdiueRwWg62HXhrKke1tagttbOEWv686N/QQiN5eoW+TdF2yPAAP0Tj2u6TPhv7f\n",
       "wOIcq6d0AryeFMGKY0D9LKOWxqwIgntevz2HHJ1LkD8gAAAAvEGflEUVLCP/APhtsqB4xZoUt4AR\n",
       "z9cHacoFiKSI0bYiqt1PNhyEpnng1rNMYplyBqGdHESmCRhz/9euFrmZ7rCw4C8CxTNrVpOeGjUN\n",
       "xrDF0DfYVx0dAVMprpeX+Po8STGSKtoLiLv8TJ/Hc/z6nNRey7dSdhKcSS+K4Lws4+pWUqf8/g6q\n",
       "TobjwsotBWEA9jxtUOxogirIsvHR7DuPgYKGaW3Lxk7SsuFQO9ABZW2EBUK7kdTLXQRgdkUoAAAA\n",
       "bwGfs3RH/wGSpyau3cvebwRY1iEoerletdvgvHxv0W7f+PM1TWpYQFsEdSh6HvLcy6PfKnlLYev1\n",
       "4i2Nt/zkLd7St9XzAjwtQV0ky8wnqv1Uf6U37CeOHgGgAV09KSMOiiIhuNmROFcJsxgbWk0XkQAA\n",
       "AGQBn7VqR/8BkeSIfOfJuhkuCrRnc3lOEx/j8xkotFrtmw7giXFAAZOoWgKnQELB8U3F9XbutTAA\n",
       "6QjsmRAMXrJRojX6kE5csd4N3WNEEOTscoVn1IxTkBuXUZSBza5SPz8emQ6gAAACKEGbukmoQWyZ\n",
       "TAhn//6eEAMMI8wsuNxZKdZ8Yp2OW+OG5g+Vk94CAKYspCPpimIstSyhZ3m/CCTRv3v8n6YC64Wd\n",
       "eM/N5DprHboi/N0IWhDCAwsoRXbnSTmk2bUvlR7nra9djW52ks33lJzG6Zl6eXKGCUZlUeedtkb7\n",
       "AqQOMpjdMa35orQFHrNsddR3+J58AsBc8Wls5hjNKxRV2AI3eVtPdBF2lFNXBWyu6g2Y4R5oDupf\n",
       "Nbov49BCwMlncIp5v+saKrHCZ8MK15075ECKKFJXonHjQfXwMeDApjHL1NpjB+GrM8ZXrJ1HCZF+\n",
       "xWb9+dUWakxlnJ5qsU/cwAvNlKkLDCI9kOpGChlU/LwfdPHE3GsOxxt3rbq8ObqrayQtuoYl+w0Y\n",
       "AAgIHa3ZsGfMRjlsKXL8ZCBUMCKsM9kZAKr5kfOFU/CnBSn26A2ECq76oN6WAJKxvAqnWX6wIz5F\n",
       "zsScI7a8wuyx3fDwDDmkQWFg5WadKTTCpuyhXP8+Kzt1MNn6FoZQx2Pb5tTpVjrKQfdyUGX1ivIY\n",
       "i/pSfeNV+aMJwwcDbOnjuS2dUzhGjyftC72NHqFoyUcmE6qYCRvkXuvLwf/ZXCGWQnvG1k1FImxb\n",
       "T92ZrIKRiSb70e49KqyHtNmzz1AIdgIyHnTyjlrIodW2DNjrU96aZ+vdKjKe1iLOw71NCDIj76VZ\n",
       "eKtudMU1os+OHtnK51vwvOAkKs12gvWsJFGD9ZyHzQAAANhBn9hFFSwj/wD4bbKgeMWj5ACqyfkk\n",
       "qnESHjrpl3YQ3MsN03qdcMNmqBaxK9drgRC/lTmSPRKuJfJmkUjsqlw0qlFCt76fHIO0uZ5tEUeW\n",
       "1XQh3RrVSgqIIdzlZSfWAOI6yCKFUhD95u/OduoYD2MYbYaGyYpCFI9jZCi6rSUTVsmgjEDqdNAv\n",
       "woNdn2YJ8kIcsy+MmR/w46L24vgoWSOkD7FcIGocGQJBnr/GvB46conYfuCu1thVDDLCXUkzi8gh\n",
       "Zp80KcKqMAAdhQkKVwiMX3TWjidGnqkAAABpAZ/3dEf/AZKnJKDIGG4uHwP2icj33ynWr+91HgAE\n",
       "7diqSE6in19nxZEE2bM66vOxY0n1+tNyc3YDCeXwQucR/mRw37JyHchdl+Mqlal1TQ1HoSTaXKb8\n",
       "0/okqWQk5Uhqmgyvtv83a4gKAAAAaQGf+WpH/wGR5Io96B3Xpuw5fzqgBbBLBLs+okihLaxk3F7/\n",
       "p4h3COZtDxCyPF12MufCnNDng/VnIB2JWCvFRqTBe60sfr2KDeN34wjeS4jb8sjk4BWoxmJyagT1\n",
       "1SDl6EAiVXZgIp+4sQAAAcZBm/5JqEFsmUwIZ//+nhADCsAvuFpungVA5RxLZdce4Zfj5tvG0fNg\n",
       "Z5JhQYTZnG7b2LV8qybL/OfwBt+ovf80P4IHD4yR5iwvMeO6omVkomlAef1dBk/jDJvs07vgaf8D\n",
       "9eTyLbIi0756rpZQhKv/jP8VtMxSwz7n4XbnEUwrUXucmADcP5rZpSvCoSSgloINaITlvp17+cYK\n",
       "3UCeTi9hn+oE5Pc+dej5KRrQy7FU90vXuQDXcF3AgKPawjix/KnUeB84Z9+r3quYkUaWbJaTKk8Y\n",
       "W5Cx3of/OYvvG/t3oGea+dMmbKDr0D2Ymt3f8qe0C/vmVuTU2YQqG326hYNWFXBcrQjSPbBXNIlR\n",
       "X2dsW4MrH+Aa4xTQRxhBGzJxNZYVygTF6T/WiWvd7nWhVlcyQldAdGOITX3xTv99pmasC5wtqcNY\n",
       "Ha1+vjXfMlTj/LLxu4RCoVoPXOcJxlBQH80Z1mGaCyS1O1u6++pN/Ij4TlrBWZca9qkRLtz9ss9n\n",
       "pc0vQFimP4m1yeGPL70IZX1U+yGOxiwQQUkV+AspMwP/kCYneEKReUIxbrEhFq/zYy4saL88YCBb\n",
       "0hE7tFWsiiXnGbhchLOAAAAAwkGeHEUVLCP/APfczI4Ce+KPesACypAjyI4DNqtbpKR4lBioaHRU\n",
       "VLCzQACIiZkE0fkC1l8KViSwT6ve0FE6J4VAAEGs8CKKUqFWaWGjFg0GvX2m1s/5csplqEQ1JZWf\n",
       "zddGnm9cdLvdqYJsTltyeD+HivbcystJlxDEahtZUBnjPyqk9nfoCNZBBxFiSK4M32FXlDJkCbhV\n",
       "DGYscTxKXY2jExnXP+uypsJmu1+1QWfbHyu6QJToXDBy+OOjlYt7UjH1AAAAegGeO3RH/wGRPlPg\n",
       "sME5Zb77mFXRrWzACO9VUXkY/SbBGfeNCMHOeRK50Tjckf6z14/5+LUccx/DYsP44M2Mi6mL5iNU\n",
       "5kkoSdSzzDR8WVPTINyI+fQ29IrhOxju/tRKmAIgx6QhalCWlNBqKwJW5nYjar1RMpb5Z6PBAAAA\n",
       "ZwGePWpH/wGQu9D30YkAJFNtLaEF+2Mvms6cK5dBzThv5vZ9S+jkibIWczCVgti/bknZBmHNtHCe\n",
       "MNRkXKlm952qgnEMhP9qyyiBDf035oC/+reAKdqdKmITEA/LFL0P+D6ZTADK/4AAAAIlQZoiSahB\n",
       "bJlMCGf//p4QAwrAL7habp4FQOUcS2XXHuGX4+bbxtHzW3Ed3+KvmZzv4ycAF6cVXX1hyrPxFmrt\n",
       "MdAzPZV0lvG+jtxgFeNVFrh9V7NRI3G/M2wFzUevB5uJRGJ8A+VBQDy9GZh7n9gGbgclmTjD8wZe\n",
       "8M5LTQAHDQIZP69VOh2glWL5fUE8AE5A5UUJAzEgjj0Hj2+C8QdK9A9cZgRcKYSZPc7nIOcWdsYR\n",
       "k3dyipr5ThtCWK6UqYc5h2vDHv2XqKBFxAjjWQvwn/GCd7Zozs2smicfJIngiaCgBWYLbIN6MVaS\n",
       "Mu0AT7CaSJuK7Bz1M1jthRs1IC2hMVcnut+YNar/z1MoYfWfCqUVPHk+9ZZR6gyY4c/N9X6vOacD\n",
       "foTNahj396Y71bT2J82tmdi3Mx0AgxURgb17epgxsrKI+r3zm19wdYKfvyI/5FojgVD6bx7aE+wN\n",
       "79NfmJcCm4H639anDTlal8lVOfkBapLGd3ch9t0eNJJ0RqKpO8/cn34VBCfHHAqOtumT2ntZfX9G\n",
       "CsJiUeIJu4Ljp8+yNVkC46z4LCo6gDne4gduPpUFeLuHYPWQn4oW1RlcPCvFD71Q5MeVzreu4r8p\n",
       "EOuyokfAczI++s4WGbRRFvn7xCUj6i6ERsKc4mLPRHDUDuSxtkETMZwnm5S2vDjWFWxbg/aXF13t\n",
       "WDs2qlxX7BF6FuVT8Mrusuepw4IgzuhTilYCIgfMAAAAxEGeQEUVLCP/APhtsqB4xaPkAK3/AtRZ\n",
       "BSau5HBjyHOHZ6b0VHg+CuqZ7+FKuhlEAAsfYXjYvlplyYE5ko1DTb73ifqQFvCs5Osgf4iURygU\n",
       "43kfg83k1ZRHWkrY3pMFiWtUMKbOgzXSEnl4jBh59jo0nbyaB9DYakmJU+i9+2qPQx3ntJ56eBU+\n",
       "jtqvxN412qFWmrPRk4jm664h+j0fH4xD7+8s5O+JI1uiBOTUIGfmBh+jYyXBOrWsPqcv5p2UsOWh\n",
       "VVkAAABjAZ5/dEf/AZKnJKDIGG4uHg5/XEa08c+E/0XwolZXsa8mzSgz8a8eLytlsWC7zlwjl/t5\n",
       "3c5q0ylof5EuSOXjg8yqyMGF/hhX5xBjFBUdY1lTl9wSN6uvt2bL27EH5GKtNviwAAAAjAGeYWpH\n",
       "/wGRCDahqSoAW0FFn/nikzxj8NsqSbbRlz+eG4HRb+NtKN27ySX3GSzsNDv4MIWMDc0mybmh9Nv7\n",
       "SuB3X2CtBRNO5Ib/ymydOWeB86o9nh0mQHTuLX5TQsuT7bXjMxc6OB/a280n0wpPbRQfklbcJIh0\n",
       "jcN5bj+VWIR2dzrKGVLx0yrACXZBAAABuEGaZkmoQWyZTAhn//6eEAMKwC+4Wm6eBUDlHEtl1x7h\n",
       "l+Pm29Iux/rBsmafe/0a+uYLiITRSCQV/y0Hl2JDS7HZ2JzI9f/jcBZThtFqxcTawsOOb0K1lX6U\n",
       "iymh88rriYwN9lbdkCJniLbfVpIfrdA2CLXsWeo/9NAV1O1t3yzk8xLwlFEotOA3v1b4ohmBxQpD\n",
       "WQnfWqnvHYHfnAa/YySQT6sOzGzjUzuueqEzx6eMd47e2z2SAsTqpSyODbv8jRNVq7HefHH+c9cO\n",
       "u6M9SHTvAXp4nQf8puGD9EEXBJ5qB+XD8/4udSTpvN/qR6/6iB6Gy+wUSapjFLpWoFnXU3bPV8gw\n",
       "u8sJfJwqqClR+ejuJd59Np0X8BwyNsCb0el9WDimX94V7igWNkeFpOXZ/YxQmRW/dQaQ0gdZzDIP\n",
       "YaXqQ4kzNpu77HP6LoKDIlLfreVfC5N5JFyT8z7Y6fEKVznI7N9PeRtwsWDTSJ6c052kzYk8IeKy\n",
       "cUdnOwMn5GOsZm3xcUtKOz/QDR4qaPeNCcN8tTMOFiNyWnimHEM7JAq2VS0BrjFxaJJI6z1qGjip\n",
       "p6b/hbZQwIHzAAAAvUGehEUVLCP/APhtsqB4xZoUt4ARuJ0sK7hZxa9RUeOB/bFOkyNVpkm7T8t7\n",
       "lT/pj8mQu7UNCBxC6CGMbKmjLnyvjuDTZYBcmvGU89ljNWOOyUE+2+JqPCcXfcutgusIuFFWykbT\n",
       "fmShc+Vy2N5ICZumPKO45iu3uyU4W+hvHITZKH1kx2tuX1TRjBMx7I4w2VTs6VAzpk7JGOiVNpsr\n",
       "ITcy2UNHTDcmk3eKVVkowl8cJTn7V7xOboypQf4iMQAAAFwBnqN0R/8An3EcGq8SWnsTm/XGkOjH\n",
       "szuhCtyB6DSPpD8buityJ54IQCDDB1rNBYORj/fjah3DLIK5K07MgXVektiIYBdJEULZrgXQmgc2\n",
       "Ufk3qmt2idjZJW1quQAAAF4BnqVqR/8BkeSIfOfJuhkuBvXQ6cALgSPrd/O6Gvb9mS16dvmfk846\n",
       "OlaMAzPCMdN/9EFy/2xvH6DyBqbBYklNfVspKOMygUAl+QhyG9Q3pbXxmWm73DnIczSBdiYVAAAB\n",
       "pEGaqkmoQWyZTAhn//6eEAMKwC+4Wm6eBUDlHEtl1x7hl+Pm28bR81ou3eJPkOOLq2Um0ZjO+w9K\n",
       "X9LJmCdckBqmc4gfs/9dr3Ie63RqvqGRaV+5lIiinSQDpjcDVSDgBrRzIM/ttCJeEoMxJsFAFiwY\n",
       "q1on63i6DTcp7Rx9RQDWpWt3idE9wS9jkzd5P0YYJRJ0KfanKY59/S6bs0MNyTLbhlQBaW2lbkp1\n",
       "cwebKnlD0mk31abbTU/bOdYEK/UkRrhfBdmZ1Ty1K2vY1qlS3QZNwykFf9IjNgHj4FRY/yhbavmP\n",
       "+SmfdusdpoyKgly41TimIhQytADWaGr9di9fYMfLwbbi0eDtw+RckPG0CRphWH5OBLSM3ri45V+w\n",
       "n1N/7+FR5swOz1FTusneMRUVgQvefhiZkLV5T2QZ8NoSoU1KFA8jmxHU9CQ/1NY5BfYcRCuoKblT\n",
       "ykikd5i4JoTvvhd5zpjH5Sv/VzzfsGprZ6lvpp9xVK451EKUIwhpv8DzzIxFmy5fm1Gjjb4TNzHV\n",
       "H37cRyodnhQvMRYy8aZFFo3mrJfYUQAAALxBnshFFSwj/wD4bbKgeMWj5ACrKlGto4T2M1bzcWT8\n",
       "0aNrIVxwmEDJTnn6i6k6b2qVLJodf3Yv8XSLddcmgYjlqIccbw3SJj4v9VIHsk7wQv+F5mbJ1YEM\n",
       "VMJChtlaF1+1NiI88Oj0LJNFvou/wEJX+EW83NpsK0x45o6bQnCX+XlsepLDfc+Dx8DaPhOqqFgk\n",
       "m9Js+84JwqNumUCAPAE6W9R2XOMDpaoLaYwRlyIbb1/LmR3gI/1G0v32YAAAAGABnud0R/8Bkqck\n",
       "oMgYbSBuQW7MBt1WHT90yOliEYcvIGYs3QipWEFV+ap2CFoQuwofXukrfGQ6at4mELA3Y5bgOL06\n",
       "Uf7A8OhFSwQOzWYIO6QawdGvJSCpsRwUhGAdyJwAAABlAZ7pakf/AZHkij3oHdenAMogvdm0ALMJ\n",
       "YJdn1EjibBi1sKP2lNlFm4oAL4lFs0YEBRU6J2jEm/KLhpTjwnebLAcy57Z5w3wh1N3jOGzkfVm9\n",
       "mr88aEEI0LsmGn500n5I3or3p+0AAAKCQZruSahBbJlMCGf//p4QAx7AQ6AKjfkwriAsUNh349+z\n",
       "Ig7Jjdm/85GMmOAk4FzYT0wcktuTU9gkSosXf8HsuvQQ9CL7HvD4kOffCIb+l1xxMmhowvTNNWOM\n",
       "BoNlIAgS00givkIRRDouBYqyB49ZzoULthOvPDUMZzTXXegmsReEFfksW8GdaEcEb440dEdMxYsj\n",
       "FW20P0CWiK/9BB9qhT47wauWPH66DQt7Dw7/GDX0kW47Xsiq9KbZj4BXRY4yxdyH3hyjYBs93i2m\n",
       "miF9jnoz+7AqWCm2w98Rs6ZAqHm+kNOLBDwB2iWEkBVt9MILBII25AKQAZX3oWoSxMDknjtcBOVk\n",
       "pD8Rt0LXwQ79+qbCgedQpFjxlHexqI5pYzuNnR3kxwf00aImYSTMLiCAvMmUiVICkCysDZ46w414\n",
       "jck+/B5Up4tvAIzTOnqSst8VR4Ppzsq4BLrifyDbcGwsJ4A5i/YMOxXP0ctbH9J1Q9b/O/KJqS/F\n",
       "Fcg5eTgnkii1VXHHxToX6IdZMQiwhiTX+AtvdtT3H4OUEjMc0BC6cCsHpcT+sqmdyrdWgpztetHj\n",
       "JBQjCCvYBZJ6HZTpwposR6sIxDmS/FCyaF/c3y7IygL+ZHSoSJ8kz0BJ5f5ukcQOf9B+YHxIvdfJ\n",
       "E3G2/wEPoRJUCVKyHIfqDgf1rzwEu1KrOArwmKxF2YpPEAfk9XIZ/H7lVWrQOH1Y3UoNwL+fDKhd\n",
       "43JPn5WNoeU6N4qrWt3fuKHits8W1i6ZmxjQBBNVmVEXImpcUzI86l1s0KFuXd2nUW4TT/wdoO8d\n",
       "r5eczimz20eGH9ydi5ymxbEBIPGsK4/kV8lOH90ytavQeKc5MOjQAAAAyEGfDEUVLCP/AP5Dldjc\n",
       "oSuZRnyABZ226WzS7OGPQtBEUybjfUFV0FR7iqF5Lj7AC5utLDuKgEFRC64mSYv8eZ9JlWMUj54C\n",
       "GMdjkcg3qZrLJeLJqLj51EfUeV9fZLRvZfpbdrBQRRUVJQCnPUUjl7uZpx13IETsUAJ4Q9hevRqh\n",
       "udiFy4PwcKJPchwkA8wD0p8foobesyKy77pKcRSey0FIMdtIhNwDzNMQd/Uu9bDRk3Tv8nstRUb2\n",
       "Potb/Hyy8ZVhIs+E1I2IAAAAYgGfK3RH/wGSpyavXO0/wk3AnmsYkLt3bjQzleBEkdy0A1qoNWy3\n",
       "qlCGovTNFPGczpl4/D9PJhl7zBoO19wSVRGUmsKPNC3KLAicYO7AkSvT6HMDZ0IlXF/Q9MJ7IEfv\n",
       "1UuNAAAAZgGfLWpH/wGcWLZPs45Vm8AI5rhn2O+fzKBamMox9vx6i9UUgjDyC4Yba0YYBPTmtjEe\n",
       "CvqMnMmtGE+06Y9hqOEhq4S4xItOm3i5C6e0rdCFtyOMcdtHfPuTNnSe/iL6KXCLhyIy4QAAAYRB\n",
       "mzJJqEFsmUwIZ//+nhADHsAryntFDfG7PZpghvq5yCpWse9XBv12AJ+4TCiD5P+DSRMXmbr5z107\n",
       "3DZNOeYupx3GRUxNgxtxGFGEbmcbDU5BcgG2cMeM4CfXCgbxJX3mNH98s/4jBJyaH6iRrFOszhE2\n",
       "RpQBhYuYEuZY4G2bnYsSjqpC2kjnhZDFEYNa+6WHP5hSu9HjgVksCe2fzBfCi9IrH02NqlFGKfVe\n",
       "X4PqX7AVsc/0efC9UB5jLVR1c0bGRMK/i7qh/SHPdTjCiyAK/BEi/LM1xCxKPln0dY1hFqLEePsS\n",
       "xekX2FtwzvjOxr4F5pHbBal1Ei55kvg+DfgEK+L1dsFJTJ1AXQlafvooeyJoobXksid73mw2OCtQ\n",
       "JQZ1PO2CTA7m448MSXppFeQtnp36DaQM/LdMnlupWtLu3PTFAn4j8fiEoRJSOgm9jyb6EqGyeVaf\n",
       "bGMVMb/ASAdLzaCLYKauT/LUz9DeRO9rLnvGYh7iRun0Rmbz7Q/AKhIKeSYRAAAAp0GfUEUVLCP/\n",
       "AP3tpbkLwk6WAGcP6Sg59c+6YZGTli4XW/QMFto+z34YIe5ICDU+Xmn2RkI+C7dRcR2FrxS6C/9h\n",
       "fdF5EgoDBkTi2ra7K6H6n7j7aLO6OZgkS/YzHDj27PUFae2M68/iU0M1EouklnJFrS6/e0rTCt/j\n",
       "1slCaiPjHF2+bICYmgSkVSWnwTNg6ezECcgkIMh6t4TyKAHBMo2KHpCaX2BAAAAAaAGfb3RH/wGc\n",
       "pySf9eipHY1SCVw/GGNkAi4AZqG+pDeOlhCNQCzpyJtODpvJOvzM14zoG976ODUq7fXUft/RMx58\n",
       "CskRfqqT4umO3VcTxsMXOpVT3zbnyOz33ahqrnHzmnijazVuQmxAAAAAUQGfcWpH/wGb5D4A1ITD\n",
       "gY8fX0M88d9LLVXzkSmIwBuh9WNYYQx1x+CX84Axd5ouUySxMvYSNHpKAW4fc8lJB+L40whxMcwa\n",
       "a3Cs8/+J8HuVIQAAAVVBm3ZJqEFsmUwIZ//+nhADHsAvp0T+olkIAA2WEMB9FltezEIecrqMx9AS\n",
       "WrwrrtOivm2ay3UPU1v/LpGrB4JgYbsDk1Dm8iwnKossoK6l7DUTmlPrwLp+WKQDpo980G0PqGOq\n",
       "d0eAZC4yE4yvUAcyqnKw6qOqvjYyMq3qddrASJ15YXbPDM7xNcG+chg45bUhuy6/DLQdaulJYB0v\n",
       "VkLthCw124fBRuPHM5rSYQHJWO5A8uAK+sVMXVXHx5aB43cMtWNCbBRr/zRDTMXrU/X6I+TEtXFi\n",
       "WbRW6fulJWqdw9yxBnADePd3cgttv6ytrEgVMGwun/Ff8GeSKMMKJK1yKl6Lw30su7vn1k4FMGqO\n",
       "4qVzV/nNsLNjprbb4NDv9txIPkWqLAFFGJkKyvrhuDRv7cdr7n09j5Pwv1JZW7djLroxzanERTxb\n",
       "eo3OkS0Qwi6PYLPeoQAAAI1Bn5RFFSwj/wD97bG9Y7o/vAA4Ty/eqcpnCIpC1j67vp8e2Emppq3D\n",
       "6GNHW64EROaQ/EH3cUBJfEh9w6igGLfI2dcGAAdQgzOzujFV6rOedFo5atNrK1sroplIL6rHOBB8\n",
       "WS30wNVHRrLEaMakq6NIqjcQwixH29x16qHByoveKHt9SQfofAxz8htycWgAAABVAZ+zdEf/AZyn\n",
       "JKCLZYNIRH3t1Sqriy34/8XjAMAr2zMva6awsMMKZplqVo/9zOchHskWnvcANjIMgY/hmvLXzJJV\n",
       "xrCVFaqL/N2V+FXyKGZjTmEMqQAAAFYBn7VqR/8Bm+SKPY1kVVrXAWzX06S4Z8RgQcx0w8kz8mDo\n",
       "qgdSJJWPVaSnqE6lnFUSeGlqxWduCa9X4jq4qCASWopYrHUyBwU49ZKVgH9MnxDBjG/XyAAAAc1B\n",
       "m7pJqEFsmUwIZ//+nhADHsAvp0T+oldLxR4rZ4vGYZfudE7Tm3kopol8/+E8FzI29cADZ07XPDAu\n",
       "1gWNJX56jOH585hqE/Xog1caQQmchzyew4JEI+/Ilq2Lptnb4X/fk1NixBqDXmo9O4q27kTugWxh\n",
       "DP5Y/4C8piz7Ro0e+fJWZo0ywhfYrHCiAPKmFEMswHs3wuXLvjD6TZdmX/nnMYhFeX6+/ecA96IG\n",
       "PbclJhH4S/YUqLqO0DDvIPuP1H9/1Cwzya6+jImMzRDvtllNsn6vlmeLIQlJeONDZ+mvpu6uIyVg\n",
       "depZ44GfwC6vcpg3BPEHi7obVHY54i8tBIDQFHTVMBMApVI2+lu0zgH82XDDZE6RVAS6AUd6UuVA\n",
       "didqp2JMEzJ3VTrCNPZTXiVPuLvtBLzHCkum0z/ptwB/zj8a6KZ45muiIPWgdvNB50kzs4ofwkIN\n",
       "4qPq3O8G9ilTDH7vWb/Vo8SvAoNWJypzIHA/HhI508SlnE9adE8a3qa4R4amreOh4xpUXQYYPGnW\n",
       "oZxqU009w7USZArrzBEOPJ9rybwslXeSNFzflpQF3ezUijyYKepCm7Pe0iJrGh5Qo1jolwrLrXWA\n",
       "E62jFwAAAIdBn9hFFSwj/wD97bG9Y9oQNACMM74k80ugYnsg0f1m+aCSav0VjBwmzpyNbvyQxJl+\n",
       "cq9HKjdft4QzOmvixbyz04uBsvj/CFkvUMmjTJwuXuY+uDq7CPeVasWewLLrvzcF8df/6NUEn7+Z\n",
       "Bo5EvNvkU1J0DnAgaU6/YGCbJSLoKLZSru8g8DkAAABdAZ/3dEf/AZynJKBjB8vFKNAAuBNcOnil\n",
       "tU5JcG203z/103z99Z65onH2OTKrjU1ZUM6ktenZMo+uKVc78okR+gDp6cA1qBq2cRtMXryC1NtM\n",
       "IrpVplQnpHMBfIG9AAAAYAGf+WpH/wGb5IVfp+oL1fwaAAuh1xaPC56NiPesng2xm+IQnbKPHMzj\n",
       "cv3g4P6XXYNrrve4sgC5J5UQ4SHNVcFQnh/lHWk6qywyRbaN7mJPdrLvANboZt7+j35Z+WJJwQAA\n",
       "AV5Bm/5JqEFsmUwIZ//+nhADHsAvp0T+oldLxR4rZ4vGYvK5sqenaysRBMRb8oaAEUEb42ZPdCXg\n",
       "D4erVQSuOAO5GpU5Tz2oPu/enVXkTlqX3PR6rxpCCq5h3pYYlqw5IwPY33tUiw0NWkBH9ZHkpqF1\n",
       "yPbra7+6L65UPaY5SXObXMh84q8k4zVdnwAe8RNacIxfNA/ccEUTm7oTuT7ZKrbedquPo80r/ozS\n",
       "JGxGZedmaOZyFgWIxuKF0QwwivG+2QO1Mm+7v+jUm9GpURVw9hhr6I+BANSPrb+Bb0qNf4ncphY4\n",
       "myb/mgSC0qOrPf3DQySfiN4M1/Ld92lOcpfnpk0kiwqlcEBvrBZxALXyLqQSoYE5GB2mm8cXvF5h\n",
       "Uky8qMd+TrnnBuSkyW/z2ViYStIxDWnifYzerY0+tuPWkCu4qIt9DcpxuIpIlctaVvTC7uoMxx10\n",
       "tntur6/tAAIRsAAAAIVBnhxFFSwj/wD9XMyHR5vtXiUAHvgVP9vqslYrhPyr1eH/ytaWKs+2Hdwv\n",
       "gKiHgEvCx3OEVgfyiPkblQkvbOAuLEhhQNGGHUoZxrTJTLWJQN03MkH+6U/IC69DlGXePRnrC0In\n",
       "xl9HEvqSi1It//bPFi72nKC3XMuSCpj5EGh4dhvD00TTAAAAUgGeO3RH/wGdfJgBtz5k7jI4p8EY\n",
       "x7KY0wztZAmKqGWIJe6hEt6Y0zosPYA3s4h8t2C4algBUA7CDSYFFzaPBmkW6pwF6mKmjwR7rN4I\n",
       "KoznSnkAAABPAZ49akf/AZq70PWDygBIp6wI5VOXuA/RBVsQEvpcnjwPv+SoQ5Iu3r0dBRT4LAS0\n",
       "ST2TPQhRJzlIKGxVuI172GyTs/RCWVXFCiWS2HBw4AAAAXZBmiJJqEFsmUwIX//+jLADKLZVBH7k\n",
       "2rVdgaYlC/P3T+OGIAL5WjWhhSwiZR154aam7vzJarLcGrX//3hliwNrjsjfytHyDWL6v8Zzuw3T\n",
       "JEqaTTLHyW0QvyWER+f+Egu4mg390hRlWvxRbdEaOikvArBz9JDmLhTCWzhkcN6kV3rGOqfIr/Lr\n",
       "yEBJg596FnA8HBm5r6KhCprcpyDz8IRSac1ZvLZPX//tkKLN6p4L0B1ZwwWlXZ7tvdc+6DSVjZO3\n",
       "M/Wx+nYGn+hcY26c/vqd0WhM9FJeKYbiUnfkHxMfTe3iD1L5CDQqSBAOfeuj3t8ftV5rHm1jSgRr\n",
       "3F/PZIL/CKGIAQXrlnMiZCFCMJFObWLbOmQZGiTGCfeo+FqaDxE+4zHHXhVH1EQkIMwRnhlWMooM\n",
       "maU23W+my6aRjIlDFr958EvW3zPn6tQ1BNyzVOhqW5Cj7+HPQH61Q3rrXs+WYpH6jXLVfoMp5ZqI\n",
       "kl1kcmIBOfuJCQAAAIJBnkBFFSwj/wD97bG9Y9oQNACOfea5TN+vre/DnyVHhNzbkV3v/sgLSspr\n",
       "N4TZ05Gt35I2LW1VgPv4Z9vNxmUynERYoq/9F5EX8uTbYTwxwzA91igt1IWzflLPeu48lcP9Xn84\n",
       "hhh/Smv+OXTd69wYnii2A+UvhU1Qfu86xe0xWYaBAAAAUQGef3RH/wGcpySgYwfLxK/QAli6lBt2\n",
       "7yCIuyMjGNuJaa35CXVY54/R6aNsZqcmP934E7MsaaPdFkiWzGNRknujZbVBQK2vmgYkpVxsZasf\n",
       "eAAAAFEBnmFqR/8Bmwg2z3pK0tQKAFuOuEuoVUw8hu7/oTKN+CvpUBv7umJ4dx68/JESATbFB4lA\n",
       "YuSbgO3gTO2KMXn0rD5hEI0baZA8LTEP39650eUAAAIEQZpmSahBbJlMCF///oywAyi2VQR+5Nq1\n",
       "XYGmI2Xz1xaNk+9ueUsmc4+LayE2ObfnD2WGw+Y8TfA808GR9ShMZ+6DEu+vvzW3elu+d66oUYvU\n",
       "D58+LVmtiFOo7XRuahPRaqV7/GdzTosD05ZMS7CFTyHn/fJNN8mWt3NkogLdYoAWMa4fgTqFC9Bh\n",
       "9fejJsjwZmJhp0v2LPDEFx36vBZHBMo4LkHKfGK99sUQdgM42+ijyMoPENLVG1bbDuH2bwbKKFde\n",
       "lvMTKSZmTKO4c2grk+imVCu4JOph+kAZ1HC3lBwzmvXy3Ca/czGtxme6+AFN4j2nqmZGnfn+RpYN\n",
       "C5POUvgiIsTbvxVzwZQsybmytZvp+1zeuuP5koWFIQV1tq6c/dTgclP6dVjnbPrFjkDDNxPrTgtw\n",
       "/qdA7Q+QRFfXfnvQs+l0M0qlYWe6Uf5KtIHoF6p3b0m0okqxQMhrcbfbyjeZTy2WEUg8Mqw9MEw7\n",
       "twWo9f8zYkXi+rESMF3Z43kmKZKSHHaQkKAnE2KdSv9gZWZ41/DfENRbzIb69sU/XZyUKmIVxe+u\n",
       "CnBA3FEEWBEn0IQnZDmVNOTjDYQx6ZPgtiGlEZWHyod4Y2KSGzjt/WE31cC6CTj7dJbF2rtMEcfa\n",
       "cnGFvrJXWQY1BoWZfECHDMgWhpBUoIW2e+I0Rcyk2zr7UJuAAAAAkkGehEUVLCP/AP3tsb1j2gmG\n",
       "l4G5AAK4qr3ztxHrG3nMEvuq3xXKpp99gnV+jzhDi1g+stHJlofADEUgxA88JLHjP6mbpR8Qpgpy\n",
       "FWz+eMSVOj6BHWPD5ggBFjOChRqNRE1KTz37qfha/U7Ju3cCOB9ruYS7966SdlXhz4ihkEKgts9V\n",
       "wClAi6iiy+8EJNFpwZb1AAAAUQGeo3RH/wCj8RSFB85jbAAkES6CwAEyzVSQnUV+Jv3wQj8VmZH9\n",
       "y4tIzo86+ft0ZgzKLVMH2+2OfnunCuVla19mQq8Pk9lwJlPHczyTZvwA+QAAAFgBnqVqR/8Bm+SI\n",
       "e94Ofla+DVO5xTBCBV2wgAPz3TsbIpxUWIpTQMT5Mff0P/QIU8zVXDqF3VvbHmn37M+LrbW+JCsU\n",
       "PnFAIoeywLrIWphK0GbmoEklouEzAAABm0GaqkmoQWyZTAhf//6MsAMotlUEfuTatV2BpiOoRHz3\n",
       "PC3WwvZKSL9dpA+6b4dFJHnh4TkcALXE6M52xTMJ3bZ1daoNLKS42iOivViSU5Ae02R7H5mwhYLX\n",
       "mLDV6Et1j36Ib/RqIbU/NGKjclDzsfpmd8Nic6rWUFnbkV27eHQoCkwNjiNet5lcVfmdCetDOxC1\n",
       "lIaAk7zI4tURg/gxfX0ImQ9g+O+OEu3k9NYWZN+Qjd2vjr3PVss7+EF13R66aP87OkgfxJEeCD7g\n",
       "2bL1FfB8/5Z80xLL0/+jt4LtSDb8968qjeL2FnxThQnnfhLDuN0dfl4guT5HZZgw82tGqn8Nx4Ef\n",
       "upa24/+Hp+jo4di9pn8tWgWa3DIAMUo3sUSowh688e1cyfF9x6PfYqOCgh8+cQ4khYdsHrQLQzzs\n",
       "ujeRudZ6U7iYkR4XZ2PWWYpAzuPE+BCufP9JWBcK60djrpFyoAN8ZE5cdR32Qg3JxBx9I88VtLgu\n",
       "lHk9trTS4Vf3Ave726xvUFsKoJ4D9V1QPOKGGSs0/uXi/kxEHQAAAIhBnshFFSwj/wD97bG9Y9oQ\n",
       "NACMcL2tsyXQMlsr3I0MdzQSZSbBWHPfFdvKrGG0zaRSJcob2nmBX1zyyR1c6HPcHq34mVTmhHWf\n",
       "z7WKOMNkjSuGzHV/qpxUkYX9G+C0/K6iVQmzQiCutwKXiCXEfD0reYqR0duZjn/bmjyCoKXtdZBA\n",
       "tdgZYNHAAAAAXAGe53RH/wGcpySgYwwXLapoOiAEoxjhz1LI4gPV30I0Z6xkq1a5czv2M1/ikgtV\n",
       "OU0AxhIPGHwdmdS9/K7qs7RkX4nDbsg0zCh/waAdX8L6HT2tGstGvVo9wa66AAAAYQGe6WpH/wGb\n",
       "5Ih78Vxf72fjOAAuh1xaPC55blICSNwrqh8NxvhPDTWBiOmHaPRjc6eGsmcE6rmpHjh5FJooiToh\n",
       "phqUjnfy0ObRCegZzf2YKLbgI98TBn86gn1+hs8GG2EAAAEcQZrrSahBbJlMCF///oywAyjIeGgD\n",
       "kbXK8Z5utUlJiXvyRnt2muGswz8V8eakp0rGkz3Qv5hdTTsy0F3S4wl6Q8lIy7A1a3Jdb8Go0wdd\n",
       "vLd9AE4SFC1YF2D/RELRNfO6AjU52zUFBzqbrYpxkDuVofq+QCN4K08PuobqRBRC1L5UYVlgnmLo\n",
       "zVR2uABiUuo4LC9dWmuzt7iIaFU7qGvd3cemirGTzWmUR5IMY0v2J/J6S0/TB3aPDKst6nBzgvAe\n",
       "PsfRFF2YbUMaCksDJA2kzv3AXdXG+7dEIFfVd+5L6JGiVUcQvb2nvXugLFQzAaRjXMPkGmKY/Xsg\n",
       "uLFKWWXr36pimqRrU0rXY5p1zlU0BYl51nX6SgQVlgE6EvAAAAFfQZsPSeEKUmUwIX/+jLADPLZQ\n",
       "Kfcy+bqKQgJnnhQgQLWc9IRpqnleJ+/0HRFJiP7D9FAHmrTz3IBNQXw7bNmAovVIeJYSgk6UsGWO\n",
       "E5mRlZoAixnMNUwo+OaUOnV5XZEbpL5xkSPm+EiiS51Pn8TQ7cRlB3Nd+p8nq/kx8SjXoMrf1pZF\n",
       "CSm1qk74p9gWys165x2HtQQv2WJ+vBdJ+T3aANT5JoGXWqXBws68aK9L3Af0ik2JfQ0Hm2WmBgeJ\n",
       "2+rd7WQvfpxh1fmhmKueCeD7KqqfgrdUQ29/ynpddEV4FDnKtLUjYl0Lqfz0ereWlG7gg0k4xvi9\n",
       "2EpjYLSxFTmZq5RDSmoevASKz6EXsEyjOw7fRAkz6CIQSFiS4AnTDbaBxedwDxkhugpUh2W+FOUW\n",
       "uiG4zH6YlHVGcCQZvjoQtkVKlZiGeE8yrPV1xuU7I3lTyD9ZPKy3KM9/R757EMMqAAAAeUGfLUU0\n",
       "TCP/AQXZ7Ev521PeK/kPhACWOHLgkOLHzlbshKow/rLojJDZDh9kkfwKE7n3T1a3l425MMHzpLCp\n",
       "+NnXE39EL2DNgy3QCdNs4kbnGz3+ik7nT6Ii6J0UIu1xq9WH2BgZcHT7+m57Zdd6FnXRVA9aym3Q\n",
       "CzkAAAB2AZ9MdEf/Aaa/+Pu03Ax6fACvYrE+3MJQdYpmFsdvD1t3e72KzbHXjZWbmwEcqmaq4FIb\n",
       "6vhEuJORL/hEVjEdLK0nZ4yHimGPNh4L3B3WkPdJpsKDMQXs5e+LPIhJ0tU7A2cAtftjBm52GEJg\n",
       "zT5ClGjPDKi3uQAAAF0Bn05qR/8BpeTBA7BNoxpv5+DFxmwnvl+gBly2kmpCH4njXNAtBGk43y7Y\n",
       "MU/qt36PZRFA1OFpXdwqI/Ge33tRJzj/3E+mYwRteLHXzJ6aWtonnc7Srmw8niCcJREAAAFnQZtT\n",
       "SahBaJlMCF///oywAzy2Uk8hMx10oROVLuNiVLawkc+dWiPeNrO+sHvQs3DVC9bsd12rUIvgZ+nc\n",
       "eD/DfVtYAT9VP6rmxBXhoT3qARzEVwk2Jg80BhauGriOT2HzVgKPpkDk+kBOrPxDm7xiMboBvH2K\n",
       "N762JSvG1SkYzzKmXgQiByIbHfAX/KOQ2a0oiG3HeAfpbETYk638b1W6qiw4IdP2D28jHxwFv71U\n",
       "d/miMUmc47/Bb+D9RkXKvHoqJp9f745OpS6cKmdWGudCzhDZLhoQgkWy0FD1BYY4G99RmwinFYpX\n",
       "iROJXMHQ5DGdeogWFD+ZoZVwfUnfQ36MsKMhkxVlc1xq/gHIHRI8rSXdnkvkpZcTFO/YM1lO3uxD\n",
       "nbGaRICpXQHmNR5osB6ro84j/8zfXNNKeQG8PVP+PefntHACRv1s3v1hUw/w/79OhUDhY5JYfQdg\n",
       "9aNvn39/DVfRnnuPHHAAAACBQZ9xRREsI/8BBWoIuRwCX477wALmtydsAs+oDkXVYVxPKfgsyX5N\n",
       "Ganvs9Vrx49q2HYe+qOKzygGDJAG1eQVBz6qTVKzQj7aDSdQIFmsXS0/v5VJADWAy43YPwC3Z1LR\n",
       "4o1JV25IcZkxjeakv+GovztMEckOA81RvfLiytbUTpCAAAAAbAGfkHRH/wFZFbNLnwI58JAAWT+2\n",
       "BntBcvxxCujzCY0uAb7t2IpEr1m+LTPI5jO25hVV5oikteAa4KkEgBACzw4rDHXwEBqsz+WkAHUY\n",
       "iUck89h9dEUFkDsgpqySrppJdtR+kWb7fmdZ2FriHwAAAGYBn5JqR/8BUDR4L7TpRaPHWFJAAuh1\n",
       "wl5Z+kMOq8PZERaXyLgBZ59v4oiRMw5zjB8GXoRiTg4pbKy8k+2TgVJ14YPtQ2OUizM8s4qjEVeB\n",
       "zihKJaiIC3z+PnwFDzLFWgeQEAgITrgAAAE+QZuUSahBbJlMCGf//p4QAzLO8HANVauY7w1nBCiE\n",
       "X+oVKQoWusppiTvxOiUw766c190vaJlx8Rb+zfWdsiIZj2gaPOUXnjoA+GDUHIk7lx9CL59g5Rdc\n",
       "fmM0bDrj03L3pC140ssX/9xNIu1vhW//DDK3xHe2XTK6Yi5uRRlKc1NQSR9O69eRu0UnzsqiijoO\n",
       "kuV4Y/VK4n7iloku7j7YbIoKeFqeg2IswP2THh9aO8aFDJBBWZMH0QaDndA8b1jb9HVePsy1Gu0l\n",
       "0T6LlDRpryUi02oRbm3p1MGiIj0RktProlfSH6ot1QNE2fXvTxKKMRppC6NVAGdLwEilQpon/BV5\n",
       "zDvfzc+9FQQwEMrFoSkuiPHJAq4RsBFKxKN1QrZPjeJCMpz7I5i3D6ZSWI92+sC0Slkrd2SmVU/J\n",
       "IAXcAAACRUGbuEnhClJlMCGf/p4QAzQjypTEf13aB7a7kF+NvctADby+rcW9W+zTFMwLsTQTazhc\n",
       "7lmxnKnWfS0eRLcD7MCm77rSYuFwf91L/7ZTiHmH7I18t+RtxUOVd2YjzWJA+vHk+xZ37K2/i4uy\n",
       "dv48CNUvP6/Ch1lS2IkP/AheUFhuZYpmLI0tdxQGLoMAszl0GPuvU+eSDauYvifA97dNzqHhU1Z2\n",
       "iGRO0uxAv9tILAhJQgCexRGES/3gdOfUVMKDPW4/WszWjy4Dr/asycYAnYIZSwdzPWfdUszaW7xa\n",
       "yPpFtAJ/ERJpmcrbmgZO68gqDRCvULzC51aqdZGsgu4idcD7koONRS0qJZQsRebihvznmCK3y+T3\n",
       "e/7Hq3zJHwuPbYAlagjhzK0te8uaiWea/MSgxBtIM1PIGq7+YbSH+ZCsk031iFjUJCvxlexHdpWo\n",
       "o+utXI2wa9rjvNKzsEIUz2mNvJMnlEHkdImxyUG+0TFmMBv2E4QMrJpH5Q8FHiTMxl7uJivwmu3o\n",
       "EbvHMIsLBYBWaloa/Snsx+SSxf4kAtTNYw0Ey0fijTVgX9BZi7pd1KEeWCHz+rfoBGOGuyU4s9OT\n",
       "96BsFLsMJTbtjJ4PwWR1nXD4Dxem0w4rsqHrNEMGgr3Z4Dzjw8bjjAXyhVvCrdaco6vPQj7h+PKS\n",
       "HvgwS6Ai1dekxeBylcRWaB+oovocXGJbqMA3fOlrYl8XlaXkEt7FJW/7WwktsvqBgr6+V6NUu2av\n",
       "NXr//T4DKGAXITbTTupfhgm5AAAAaEGf1kU0TCP/AQVqGdh44hZqp8f2Tdx1Tqcnfm5Bd2DLpPVB\n",
       "Mi30JJ+vudlwAu2H9MlpCHqcQpWrEQYXi2j1FBO3rPncVdYKMqiwtdsCr/AJEWEUJ4yHaEh5ceoH\n",
       "i0KfVIq6lpjF/oIsAAAAPQGf9XRH/wGmpyavSb/7jJzJWl5nSZ8bffsNysJ4+h58PLiuEL81MzW2\n",
       "44GW2LZ7scyJzL56wSnXec9lYqEAAAA1AZ/3akf/AaXkiHt+dUGlrBw09w3K8JWp/kffWSKmn0Zg\n",
       "htWgTxMcKnXyTNzbHYVblHc07YEAAAGuQZv8SahBaJlMCGf//p4QAzQjzCQF7dVdBeAAQqLApcMO\n",
       "Rwx5stt0jqpOZjlXnfN+NtCRa6VBk2Zxuj2RT3ebQrzYCN64fYdQ3HOc+wkecpygGPLPyIXuRseB\n",
       "jktqzN6yKw1VltVTN/gTeMX9hTNVC7Jp7iZsxcDBqcoi83ohDeXKNQU5pgXvFxyWzPGYjslkEKF3\n",
       "c1prqL//m+G8JPJmy7iKCrvesRMd8Ir4mZev9XcQh7brCgu4olUSIRkKkvKK7h29MW1y+mY4MbeG\n",
       "WPGwdb0Cw7TjG3eZRA7xkehek4RqyAs9c0kZ7dHsRSuA2QDHwjC0QAsygPnCFlITtede6uLrAMgT\n",
       "O/B/y0CpJXi3bOXDx0Ok2mJGUqQG3w2upi8xTlMMNVgrIhsaJUg0z3eJy4aUqLLaWVINnXgQQfZN\n",
       "Ld2LhFmWSPYhU5g5dyiSinEwD0Mw+Tk0quqqQ21Cu6oJD19MlW8G9Talq+Mbrcoi4/erigiePX69\n",
       "vBMrNTLDRKyv0iqX8Huo30OBnT4sW/q0l+a4xWKfTPiAvMksR3UGm5bHfO8WgokntlB9QADZgAAA\n",
       "AF9BnhpFESwj/wEFahnYeOISO4VD8ls6uiOKsADHgakzOPN8GrUdj1aBFBVmc9SmsqYmKJ3szPZ1\n",
       "KVRlh6jH2HEhCWcgJo7zVtC66NiUeIC0yOpRmaxqnB6ABx49+VwIMQAAAEMBnjl0R/8BpqcmrmLz\n",
       "8UUALcdcWjwuev3FAKoLPO0Tz/4zBt6P+p998ojHx8WncuNBj2/0e6rfQcDMRqUw8FwRg28pAAAA\n",
       "OAGeO2pH/wGnfJgBtz5k7bbXyUUeEyJzr2ZKg2toGfVRQowr5h2LMwPPgQUdrsEQIIZScD9q1KfZ\n",
       "AAABHkGaIEmoQWyZTAhn//6eEAMywC+bIXi8e23Y6Q+HC3xFPi6YwG2tjkzBT2yNjuIt6Rqol5Go\n",
       "n9I1sNRn2nbHwSwAc6rDOH6ZfpDo8R2SHreslJ0sbw5Ul+OfKBo0qDrI4+Xbj6DsYe7Q4zdnDGq/\n",
       "LcQYc+oIQ1hm7lcREAf64OGkP6xBX0AVbpc9KzTMi9GgtQhWfPjt8OssZUq3t5piQHRVTwOIrJnO\n",
       "nzheDdhzZO9VPZk66DW/li10otjmnc8vjgBSsZLNm38t2w19CW7trLgSFne/R4UKLU0OdeXuDbMG\n",
       "YlcUwW/srXD/9Iu6gaPsECjWNyQcS/W250K0QfXUVt31afAWAQti95RCis2Iwv7QH1sGE2R8pKD5\n",
       "VjggsoEAAABZQZ5eRRUsI/8BBWoZ2HjiEjuFSDZyR49WdxwJdo8NJ6JyDbUapqHHBr9ZnlcKcnWG\n",
       "Jsx/nHBHzmjqYz2HsTsDGYrZ2BIOe2jVdP2bUJkHXYRDwDlKiuzp88wAAAA0AZ59dEf/AaUv7SUZ\n",
       "YEhPb56pBFAyruM0SoftOWptVHLPryZMyiYp2ndi8E7/eDmG8LefEAAAADMBnn9qR/8BpeSIe94O\n",
       "Pla900BxbMFBynJkl7hEczpJaZDlZPAvjNarcXV9F1t5DSEkLaEAAAE9QZpkSahBbJlMCGf//p4Q\n",
       "AzLAL5qZjbEFPKUfW2KLxypM2QR9vY9m/rFgptpuQOFgHJdxl4NkTo/m2kJ0N7OvLZ/axLyYUKe2\n",
       "ErDo2kQcaSnjmsWIjpNnsxqhyNuM8dXKSuaP0nfnYM0h3BG+e+kLBVg4fJvJ6hqb/uMSr2E6xtiA\n",
       "OPcU66ZI+sYGYpAChaw8Km7cygcGw1fsneTNMoYjj8G2983fVQQpvQnsf+ptWigIZfUNYo0oeHO5\n",
       "Vjw9hl5VLxzAA0BrXV32hoH4xXTL6ZhXOK1VuMuoG0fkMMo7YRm4t3eoq7zrSg+wS6A7izm2Ngph\n",
       "OG3NlJsF9sjBgQOH1EHdRekO0F4GGuJSwM1UhIFsBowkClMbB5uCxDHTtPDrQPzE+3la9QluLv2d\n",
       "1PEw1Wbq8u0oktbwfr5UY6oAAABQQZ6CRRUsI/8BBMzQ442DH442rwka6evmYQ1Y+oRmJjge4EUU\n",
       "7gZTbxyQzSK38HJJX2qsw4JGZSheAwZY/ZCbWV7eyw3uQfkXgGKEUyIYMyEAAAA/AZ6hdEf/AaTC\n",
       "jMv1NO+E99lCAEsXUAuoVUu4hu7/oTKOBRxxj5DNQAfjve+mzSdIwPuaQ8gFuLgwAMqp5wY+AAAA\n",
       "PAGeo2pH/wCo/gAABdDrjnGYWIC3scQ4vAj/yybkU1XEMkLUhSJ6wwtfyc1RBozgWq+4Nt+DPU65\n",
       "NBtUJQAAAWJBmqhJqEFsmUwIZ//+nhADMsAvmpmNsQU8pR9bYovHKkzZBH29Y1MQedXk830ylrsJ\n",
       "v7/5BR8k5ZeI9HUQV/2tQXTmTABZzWzpLwIooJs1/7/xhfgiYBqPpsfkCT5o8NzfQdS3usTV58oS\n",
       "WoLJIPbL/dzq8Dmkf4WzbAvPKZr44k4VzDsJZKVtdk83vPsDT/kG97ChmtAB62hbosyz3qbod4sy\n",
       "SHka6ffxudpExkpro8gjtCZc/PIuHPvHEUgqifOLZ3eW1kRaxKY17V9mvBDF36qPx0u3ZQilp7S3\n",
       "87TT4KZlIAUKFCbBaUiC85pYyeD2ro1HJrvUW7pBVLEchgF7SnBpUxJkv3P+WAdObH2GQbcgemY+\n",
       "dN/+UFSoYR5MOjsP4sKdmBvRLS0XysW4XzksLEqQTeiOTC35hHX96VZy6hRsqw0XQ9BnEFC1jWVH\n",
       "FmHahurmWRxoq0MX7iXeMMxSS8EAAABQQZ7GRRUsI/8BBWoZ2HjiEjuFSDZyR49WdxwJdo8ZJl/y\n",
       "fuCeZWplgjERrmAZ30ZdP5ZzyQO2HCArKRSaRcwyr9f+6JRmN2BLOMfQeCKuI9kAAAA4AZ7ldEf/\n",
       "AaanJq3uXJSywppzWwwKSLvPZLQnWvA0sGvTwItGpiv25JSj1AeQXqZMIp0Ssy6GjZ8AAAA2AZ7n\n",
       "akf/AaXkiHt+dUGmInwAuBNcOozhdaSeeBxDzx7CvTZH/ROC1ggILlmgFMqCNh2MYhswAAABFEGa\n",
       "7EmoQWyZTAhn//6eEAMywC+amY2xBTyk7wKCHmCukL0WAH23cR/hWZ1n0hx8XDvCmRYGeYPRQHpw\n",
       "kmSOh44Yk2lCRVLRBXvZRiVEjThEoytZ0u0ZBVzATAFfqkTpAWn+0tK5wni6yKypGgoSd12wz3y0\n",
       "iaQsvd/V1G7jA8uq0EMXIXBPjEKEuMNnYzaJfwKzF6JtxjH6k484koATE8gSaBwjlsSBkLgjMrnD\n",
       "RUKIiVhfpm+0X3TEoZRuFQop0WuhM8YjrmCZSgE8gRu5EQmqcgGueS32zv4so/m7W04ktolk5FkB\n",
       "UZgvn42f/ft9m2pxNzMkyAHPq1L9+G/BpR1uRBxLBWGpgxF8aOa7q4X880AVEAAAAFhBnwpFFSwj\n",
       "/wEFahnYeOISOy2nPZoGFxdR1kQOVJJudMfkGeZmnzYf/iCE295cen6VK48wqb/iD0WjTWUz3EHk\n",
       "TIFrS7tnS/hA6Jqaz6QHuusl5duenXSBAAAAPwGfKXRH/wGmpyauTbPn7e0AJYuoOjwuei0Le5F4\n",
       "GtgKAT2xcIuhyEcPXmQsbA/bQbSS/n7z9EWR/bympGgqlgAAADsBnytqR/8BpeSIfWv0JDhmgpSY\n",
       "hACWWyLMmg15NnSQgLlwpmJ7lmchaZA23XNKMw+PA/rfeCOF6TlnQAAAAZZBmzBJqEFsmUwIZ//+\n",
       "nhADRsArynfesdNJ6GxD/6gvH5IHkFxikMUqRS2wT6hZGg8ThzVYfJ/Z0AFZcGa1U50AiRDffFYL\n",
       "w9qJWcQQKHqmAHXVTzDWzqLBE8ilNsHzJfmlnUHz5rMc+Ani4yAgI8+LWAjJKOtip+w0IllDJzm0\n",
       "W3lws/dzPjIWXs5DsigOdxb9GTQWWkthZmSj+vJnGN0kg+Unyc47G+SNScO81Wk+oCI3D6db15H+\n",
       "mjM2hoI+2Q7wEm2BCML0LAzvOa47iNb0IrFdYB7TDkB0ohvjqNLmV5xgxn6AjXijCW4VMcE69pHL\n",
       "7HV+4dYj9HlAbAEd5yPzJbkhqSQlRFmI1AALbp+PwsATbC6DdZ6I9inXGNvN616x2tIorFcc8Vwu\n",
       "lSpyNYlqe78UCBOFAm0naFjMEBvhyzEsGxoCUJbVsNvG/V13DuhiYultSmcQx0DsB6Ra9i+6fSIJ\n",
       "u46WmWCo/q6XY8ZYjINwZmxxYvQ93nXtig+PsZDQCANARPs4YsM8YyBiTKalmf+mJI9JAAAAZkGf\n",
       "TkUVLCP/AQ1qB8zqcceXHs7EJjgYpkp1QCYma2QGuKuAFjj7hs6BJMONfai8J8BLjyy+2TGstF2Y\n",
       "6WdQoH5b8Yr0OorpLASyE3ihE3BC1cqu/2lft1F8T2Pd9KAO6Hag7qHQXwAAAFMBn210R/8BsFox\n",
       "iVQC1RFw63rMrXCAGonp1GMb7HP/vH7cy8oXYBLGRb1Vp7wo/Z8h39YJ6/FDFOdJkEJjaDC/ZQ0Q\n",
       "SLKXUPnKlk2UPmhk83gu6QAAAF8Bn29qR/8Br+SIepqWyWJjQBZR2CR8AwxTDZLRySuzEJDgdeug\n",
       "At/AroO2/H36yP2Hf+oxLb2+ltkVseSUf1B8e6LUJbtWon3ylyvDaPYAv560H7LKoN2d/b6LuqUK\n",
       "SAAAASBBm3RJqEFsmUwIZ//+nhADRsAp7PVbvCQ8d+9xvcHHIo3jt1F72QegLQKGWbk/85M7O9ZA\n",
       "5imz477Rap+IAgwn3QHicAuQ3nzFVN98//JtNZpp2WAHJwZkYAytVkCaQYjyeK0NHk+3hmqGsXP8\n",
       "2nNZ8le9OLa6VMb59RB4HUOpbOug6EZrviILyxEBTIgARilQHdHw3XlsyCt/a7z7cKNn/K5/UDIo\n",
       "buXyCkMoto7yNCtTR6yWA3ooDeYV1EXLPqBD9XeFFMwmRunw9VLwKi08Mq8dsJYEOy97cp+ptXDi\n",
       "2yEXn92wWisDiaIUoHqMNRwlIIVPVcbcqbqvEE5BhfarQnR39quYAik/egcVMirHNVpzfpiFFgr1\n",
       "VGMt+WQ0hlQAAABtQZ+SRRUsI/8BDWoItxNKh0jtxj0Z5cM1ri9QEK8xYc145URgBbI1kx56Y7V3\n",
       "LhtpHFM11mykt0GfLHsGX2J5OVlqKJqWvOMZ51LhX2PDbh/NliwOOudG5d3O22rmxUggDeUY6vCX\n",
       "3+pdAMDBYQAAAFsBn7F0R/8BsKbtkA1CUkN1L/DAAC6HXCXUKqUI6P5th2aTOECpnMCJjufJFN8h\n",
       "4QBo0RYnKOo07EzwwF6mNC9lOa3QfoIFRB2FN6ZOVb8MN+B0mde3CTVaeFh0AAAATQGfs2pH/wGx\n",
       "fJgBueitXiapSVoDxJP6C4+rKiypDrmoxhWXTHihogU0VuW8MuwWGC1YElpF0CwLM0Kyj8fU/4w6\n",
       "MqsHAIUOlACByNPQAAAA5kGbuEmoQWyZTAhn//6eEANGwC+VL6mI6pctga5rY0bOs4geGJK2F9fu\n",
       "8GsZHkdPtBobNIR/vTe+Qq2nfw7kiyiiXRydYfMVUMng3eXcA79nUhEi4gIZSOwy2cZOtfTcdj4p\n",
       "vQSqguv/StcBBoCWt5ZeFE5Oi7Lrg9XupMl6iJ+EItDCbDUSSTiXIXxGdtxKZ6tuJ6mUHmXx+vCM\n",
       "/uK/50endOHpxiMUnyTPGIEVLIaoaEzoUEDspS5zW6bLt81VwEOc08vaM/xfA1ZsfA5MC1j39gdb\n",
       "+fDUpIOoWlXfU5r6Crzfs0eBAAAAT0Gf1kUVLCP/AQ1qGOTpwPHrhh+Gkj9SFxcdmbWgvea9bzfG\n",
       "BjzwHVYUrTq/Ljiq17q0k/0fQBjJaRdAiikT6jCYHeY7LFecMQWojavNylAAAAA4AZ/1dEf/AbCn\n",
       "Jq5NtQKQpNTZKaEDqBPdCw70IDXeHiIjLAfJvy05MWcy4aknCcWpfSIkeHLNy4MAAAA8AZ/3akf/\n",
       "Aa/kiHt+dUD2R2IASjGOHTyYPdlyPBSB3AweN1NBbB3nnWMHYbalKC/FLeHu+4/6xKgdRMkNAAAA\n",
       "7UGb/EmoQWyZTAhn//6eEANGwC+P7TdbITtFHrinlz4p/NsUgilXDJnWdsbN8kwoMJszjdPweoQM\n",
       "crhjid8MukGVVj1inmhml802FSAObM+hNKqGdEDic+YzaU/pdOkPU4URIOf1HuRJad8j11fw3jF1\n",
       "5WUblrdkMCi+ObgCGUTvWg3ML3/iHb4L6F39j3WIW8yOSR5AoIem+DNITx7lKJQbUhfB/tztSh4D\n",
       "nhlDxfWF6Q9KIkEhnHL4/OF3UhZS6PlEd/B5qZJ4ayesk5jOrbap7LwWmI7rGmvdvUUHRa+LCpp5\n",
       "TwPwQvG8VbYMJgAAAExBnhpFFSwj/wENahjk6cDx64Ybo9vOYRTGipraNNvfGv2ykvtpK4M3GuT3\n",
       "jA101xwVJnDelL3lkaoKxui/0ZU+z4NF1Rfzbm98A+QlAAAAPgGeOXRH/wGwpyauYpvxRQAtx1xa\n",
       "PC9Fn9qJ2edonn/z+ei+yitRXQS6zRoDI4DuqJ3Q2JGB+Z/5e+PqX5BQAAAANgGeO2pH/wGxfJgB\n",
       "tz5k7bbXpAokNOIEk9R3xRl2OjbT+iQU66l/YDM40Ox0bszBGaw3hIiWgQAAAN1BmiBJqEFsmUwI\n",
       "Z//+nhADRsAvj+03WyE7RR64p5c+KfzbFIIpNvbymTOeHKh3zBWNi8QBqaZsmXreU9pdiEkTsff6\n",
       "WQ2ue80ZbpIL4TkyJNR8kkZjmzQ9o6MljYnkgbNAu9W3lBgES83tc9Tk0MAT5lIQ1WsbWEUzWiOF\n",
       "XRWT7EpDMAvXNiH/eF0I1ZvvHYg4TXcX/3P/BJ4XRenI9USKOtBEujwYEcWYuY96hF+aMRTm9S/Q\n",
       "md4F1bCEu94qUuUXKLq+hBh3NyhH1naUQN048Fi4MZCIMRmi56etoQAAAFFBnl5FFSwj/wENahjk\n",
       "6cDx64YfhpI/UhcXHZm1kbHx37oGrOQT1gQzHQfTc/NQnm3h5Fxs9hmUIs0IoRw7ufiVmRWHbM4u\n",
       "cuJPl9k1hf6PjcAAAAA0AZ59dEf/Aa8v7SUZYEhrHcm1lu69HQu6LZfHEpwjsP+K0DL56d6ylhcZ\n",
       "35dpadjIX0hRmQAAADQBnn9qR/8Br+SIe94LuGWsU9t+yr0SQhMMuwm5BuhE6IA1x45hDZo8GHjc\n",
       "MsY1p5yzIqqBAAAA9UGaZEmoQWyZTAhf//6MsANQtlTdVEqGvg2BYaNFdFsCu132lUBpVhuBlPLS\n",
       "xwXonSM58uzxfLff/ayczLaAUAh+fs6emniw5CUU8IPJCFOYfAzVXVsjuZ2odxGxjb+3J3Yj0PcY\n",
       "8ou4CL6FseXqglVupkRZoYLqEBTaOBEzxp/+1By7ufLT5QwY0pIYF6CWQtFQY5Ttnf14eshL4Asc\n",
       "EXharJqJvmqmwDWgakrjVZ+h23NcDbgAAEW/W9Eq8UhCDtOj0lBZDxnqQOmrQyO3AZ/SdVqtHBCu\n",
       "Vqi135lopYKlfx3CCINKkd0XZIiyvVtXii4HxBNmAAAAUUGegkUVLCP/AQzM0N37Z+xVYioaxQ3H\n",
       "62MNqTpje/LEcJ1pV3/E8/QQkcVEjxzGOlK9TS71Y91G3ZYAShLuBdKf4inn0fR6rsGXG4Y6ywTt\n",
       "kQAAAD4BnqF0R/8BrsKMy/U074Tm4EgALodcJdQqpdxDd3/QmUcCmwUAEwpZqu1gssE4VK5PmgLs\n",
       "iwIoggUCHEiN6AAAAD8BnqNqR/8ArX4AAAXQ645xmFiAqUM8OLwI/8sm5FNVxDJCv4Wjg83wSStu\n",
       "SO0LNGByy3lQyS+qCUfGZk93knMAAAF9QZqoSahBbJlMCF///oywA1C2VN1USoa+DYFho0V0WwK7\n",
       "XfaVQGlWtsbsTliohM4PaAFvHrhL/o2dEfyqFSXe6A2VHNBryHWcd73B9YqjIDyp9XmYmzGc2id8\n",
       "34ShXC5xr44twW2hS0RmYQSeeabic/MusqjuC0QS6UmZOcGFL7alYwe7cn7kKO6KiRO18J+YrUVf\n",
       "jFs8mlEFoEf8MB8ahQw7ecRVGqwQjb5ng71YDJLtPyXllsmTItcR9XfFqqdU90SlrWyiE9myUWs6\n",
       "JJZP2FvCEbNskSTYnrPigEPJUN7D9apH9WI5a9OEqJcA3Xf04a1auGfQtpGL0VlkgO1unMXWHjXm\n",
       "XyeIcpim2nHU3WdNVcR/goY1S+aupTB8vbH7JC/19x9uIoxh9CkW5A8Oq8eOtIXKk/J90H4KDE7l\n",
       "z/VEAWMH/UqoyItKVYKR5Mp7FOWKqJQ7cOXtQBBLpycyfrvNc3Ks4FRfdTOw6K2ux1GuCeR1cgdb\n",
       "cNCB7tbhAAAATUGexkUVLCP/AQ1qGOTpwPHrhh+Gkj9SFxcdmbWfe34TRQ7CUcHKYDVazyB7fo0I\n",
       "0hA1ZBROEjQNRx8rck4c9ZnqzXWOhGP4VosSOccFAAAAOwGe5XRH/wGwpyat7lyXiBhUwAFwJIWX\n",
       "Eh90H5FDwYd9ieI5MspQULzy1EvLBtSOKw8I2MR3w82Oa6ShAAAAQgGe52pH/wGv5Ih7fnVYHtH8\n",
       "ALgtAFt5vkgUcQhD75RxXbBpViOnJBTfbkzlzvC68dXFeWY1aNKuNXRTMoAUM5CmRAAAAL5BmuxJ\n",
       "qEFsmUwIX//+jLADULZU3VRKhr4Nf+EBQjOHkTudCMFu743TVU2wuXMEB7xx1hJ7MIMfmRqQAHsC\n",
       "YysYAr2XaoXwf+/RnoTWujih2HM6kL60a6Y88jk3zycOLhuxuGjKsz7/qZudJf8+yU08UmVR9bNg\n",
       "+GR/bQHZXcIkVTShnewyP+Y3k7Hb1zKzGW6Q3Z3vG4b9/KIiqB4S7kWkyJv8z+meIWAmAAC6y8kx\n",
       "513Tj3ZnolSE2M2hWcoEAAAAZEGfCkUVLCP/AQ1qGOTpwPHrLakLc6C81+Rnerqpmp2XF2jwSPe9\n",
       "TSAFrfg0fjbArhXNXQ9VmAdv7jqjYBpitzQVgUYaAHS47jVdt+vKV5wjcpTY6/0NPmvBpmY5bSyb\n",
       "Duy7XCEAAABdAZ8pdEf/AbCnJq5Ns93t7QAli6g6PC9FjkqCzztE8/+fzjDX/gFtx9uirJde7Q2f\n",
       "ZJpVmnACUHI4NjEmkFst9ba9ACFqyQn4gRmdarIDFEE21fEM+SL5bXeSFR3wAAAAUQGfK2pH/wGv\n",
       "5Ih9TGXOeGiGEvVEpCkiRmb8xYJ2ljiHKnTAATUaa2AoXrrymcHxQo2MWujMquRF8EeL3EhtWss2\n",
       "d4Zmtp2pyJO2K2Y67CZwxwAAAJ5BmzBJqEFsmUwIV//+OEANGf0g9GrSjQbB2BSxVBp23nPr+WwM\n",
       "/gVNPq3RHGu3JczxJyEsx8r3gKVsjU2mCXT9G6YSXT0P7OhC9kjwtTfQEftbLvG9hwAeAG6xdR/T\n",
       "UKBmGnnTivb8jDXW2ThQ3/Ccl1RHY//xBREZvUBMX+JeE9Yp43gOWVDb4Ip5WxiWCfi8Zlx7lprl\n",
       "MG4+2YS9wQAAAFNBn05FFSwj/wEVagfM2FfHl7LOZCbBREhNqFQ64OqKMq62GaZqv2nS0qB63PMA\n",
       "AuSjB7Dz6tQOZidC3uXdWUHJK7TH752i9RBUgmKeIhGIqJ7bIQAAAD0Bn210R/8BuloxiRXAhCwu\n",
       "hKAHlaIAaienUhCrcdbNE/2RMYsEOHZ6Aa7XK6ezYkURAsJZM13GOEspqWHBAAAAPAGfb2pH/wG5\n",
       "5Ih6mpbJYmM+1lHYJHwDG75PMjjK8UQOEIkv8B8zGzBYMoyP+q+1hcdUY8p2iifms/KawAAAAIBB\n",
       "m3RJqEFsmUwIR//94QAzIt4E4gVlVjbLp/a9P6ZZc3YfnobBOIYliaNh0FaMJMIq7zqnzUZGsbFg\n",
       "PMJs/rBE2ciei86SrFQzZ48RUWzYQBaJcs80BQz6dSwAuXLIvJtPbh2CDBK8QHkgGDNzN4DWL+wW\n",
       "lIJLDIwaLJ6sYcOggAAAAEhBn5JFFSwj/wEVagi2AusJSO4GfxnkOD/EL1BQfwwNgSCoVSdYoU6X\n",
       "cR6TFPTO6WIWDpCpEuDMXgYGV2zwH5JwgH9JoonZQhkAAAAuAZ+xdEf/Abqm7ZANQlJDdB0256wj\n",
       "BMtu3Ct76Q8WbWSkY9/njTen6QiIgZlwQAAAADoBn7NqR/8Bu3yYAbnorV4mqR+Cw+xUCCfpTY0F\n",
       "le8QpTcGFNPhi0zomLCJQm4S8VxIcsl32LQT2wSAAAAAXEGbtUmoQWyZTAj//IQAx4oxCurnb4yU\n",
       "lk8AJZBVgH7etEhP2NieKKB1NH0ArePAk9LnX7YMYaHVz22mNiudO+nVzFTy851NGfOe3a0mtHTK\n",
       "zCV/6eeEysbS9xFxAAAKL21vb3YAAABsbXZoZAAAAAAAAAAAAAAAAAAAA+gAAAu4AAEAAAEAAAAA\n",
       "AAAAAAAAAAABAAAAAAAAAAAAAAAAAAAAAQAAAAAAAAAAAAAAAAAAQAAAAAAAAAAAAAAAAAAAAAAA\n",
       "AAAAAAAAAAAAAAAAAAIAAAlZdHJhawAAAFx0a2hkAAAAAwAAAAAAAAAAAAAAAQAAAAAAAAu4AAAA\n",
       "AAAAAAAAAAAAAAAAAAABAAAAAAAAAAAAAAAAAAAAAQAAAAAAAAAAAAAAAAAAQAAAAAJAAAABaAAA\n",
       "AAAAJGVkdHMAAAAcZWxzdAAAAAAAAAABAAALuAAAAgAAAQAAAAAI0W1kaWEAAAAgbWRoZAAAAAAA\n",
       "AAAAAAAAAAAAMgAAAJYAVcQAAAAAAC1oZGxyAAAAAAAAAAB2aWRlAAAAAAAAAAAAAAAAVmlkZW9I\n",
       "YW5kbGVyAAAACHxtaW5mAAAAFHZtaGQAAAABAAAAAAAAAAAAAAAkZGluZgAAABxkcmVmAAAAAAAA\n",
       "AAEAAAAMdXJsIAAAAAEAAAg8c3RibAAAALRzdHNkAAAAAAAAAAEAAACkYXZjMQAAAAAAAAABAAAA\n",
       "AAAAAAAAAAAAAAAAAAJAAWgASAAAAEgAAAAAAAAAAQAAAAAAAAAAAAAAAAAAAAAAAAAAAAAAAAAA\n",
       "AAAAAAAAABj//wAAADJhdmNDAWQAH//hABlnZAAfrNlAkC/5YQAAAwABAAADAGQPGDGWAQAGaOvj\n",
       "yyLAAAAAHHV1aWRraEDyXyRPxbo5pRvPAyPzAAAAAAAAABhzdHRzAAAAAAAAAAEAAACWAAABAAAA\n",
       "ABRzdHNzAAAAAAAAAAEAAAABAAAEuGN0dHMAAAAAAAAAlQAAAAEAAAIAAAAAAQAABQAAAAABAAAC\n",
       "AAAAAAEAAAAAAAAAAQAAAQAAAAACAAACAAAAAAEAAAUAAAAAAQAAAgAAAAABAAAAAAAAAAEAAAEA\n",
       "AAAAAQAABQAAAAABAAACAAAAAAEAAAAAAAAAAQAAAQAAAAABAAAFAAAAAAEAAAIAAAAAAQAAAAAA\n",
       "AAABAAABAAAAAAEAAAUAAAAAAQAAAgAAAAABAAAAAAAAAAEAAAEAAAAAAQAABQAAAAABAAACAAAA\n",
       "AAEAAAAAAAAAAQAAAQAAAAABAAAFAAAAAAEAAAIAAAAAAQAAAAAAAAABAAABAAAAAAEAAAUAAAAA\n",
       "AQAAAgAAAAABAAAAAAAAAAEAAAEAAAAAAQAABQAAAAABAAACAAAAAAEAAAAAAAAAAQAAAQAAAAAB\n",
       "AAAFAAAAAAEAAAIAAAAAAQAAAAAAAAABAAABAAAAAAEAAAUAAAAAAQAAAgAAAAABAAAAAAAAAAEA\n",
       "AAEAAAAAAQAABQAAAAABAAACAAAAAAEAAAAAAAAAAQAAAQAAAAABAAAFAAAAAAEAAAIAAAAAAQAA\n",
       "AAAAAAABAAABAAAAAAEAAAUAAAAAAQAAAgAAAAABAAAAAAAAAAEAAAEAAAAAAQAABQAAAAABAAAC\n",
       "AAAAAAEAAAAAAAAAAQAAAQAAAAABAAAFAAAAAAEAAAIAAAAAAQAAAAAAAAABAAABAAAAAAEAAAUA\n",
       "AAAAAQAAAgAAAAABAAAAAAAAAAEAAAEAAAAAAQAABQAAAAABAAACAAAAAAEAAAAAAAAAAQAAAQAA\n",
       "AAABAAACAAAAAAEAAAUAAAAAAQAAAgAAAAABAAAAAAAAAAEAAAEAAAAAAQAABQAAAAABAAACAAAA\n",
       "AAEAAAAAAAAAAQAAAQAAAAABAAACAAAAAAEAAAUAAAAAAQAAAgAAAAABAAAAAAAAAAEAAAEAAAAA\n",
       "AQAABQAAAAABAAACAAAAAAEAAAAAAAAAAQAAAQAAAAABAAAFAAAAAAEAAAIAAAAAAQAAAAAAAAAB\n",
       "AAABAAAAAAEAAAUAAAAAAQAAAgAAAAABAAAAAAAAAAEAAAEAAAAAAQAABQAAAAABAAACAAAAAAEA\n",
       "AAAAAAAAAQAAAQAAAAABAAAFAAAAAAEAAAIAAAAAAQAAAAAAAAABAAABAAAAAAEAAAUAAAAAAQAA\n",
       "AgAAAAABAAAAAAAAAAEAAAEAAAAAAQAABQAAAAABAAACAAAAAAEAAAAAAAAAAQAAAQAAAAABAAAF\n",
       "AAAAAAEAAAIAAAAAAQAAAAAAAAABAAABAAAAAAEAAAUAAAAAAQAAAgAAAAABAAAAAAAAAAEAAAEA\n",
       "AAAAAQAABQAAAAABAAACAAAAAAEAAAAAAAAAAQAAAQAAAAABAAAFAAAAAAEAAAIAAAAAAQAAAAAA\n",
       "AAABAAABAAAAAAEAAAUAAAAAAQAAAgAAAAABAAAAAAAAAAEAAAEAAAAAAQAABQAAAAABAAACAAAA\n",
       "AAEAAAAAAAAAAQAAAQAAAAABAAAFAAAAAAEAAAIAAAAAAQAAAAAAAAABAAABAAAAAAEAAAUAAAAA\n",
       "AQAAAgAAAAABAAAAAAAAAAEAAAEAAAAAAQAAAgAAAAAcc3RzYwAAAAAAAAABAAAAAQAAAJYAAAAB\n",
       "AAACbHN0c3oAAAAAAAAAAAAAAJYAACTeAAACegAAARAAAACjAAAAlQAAAcwAAAFLAAACiAAAAQcA\n",
       "AACJAAAAjwAAAgcAAADxAAAAcwAAAIcAAAIJAAABJAAAAIUAAAB5AAACJgAAAMAAAABzAAAAaAAA\n",
       "AiwAAADcAAAAbQAAAG0AAAHKAAAAxgAAAH4AAABrAAACKQAAAMgAAABnAAAAkAAAAbwAAADBAAAA\n",
       "YAAAAGIAAAGoAAAAwAAAAGQAAABpAAAChgAAAMwAAABmAAAAagAAAYgAAACrAAAAbAAAAFUAAAFZ\n",
       "AAAAkQAAAFkAAABaAAAB0QAAAIsAAABhAAAAZAAAAWIAAACJAAAAVgAAAFMAAAF6AAAAhgAAAFUA\n",
       "AABVAAACCAAAAJYAAABVAAAAXAAAAZ8AAACMAAAAYAAAAGUAAAEgAAABYwAAAH0AAAB6AAAAYQAA\n",
       "AWsAAACFAAAAcAAAAGoAAAFCAAACSQAAAGwAAABBAAAAOQAAAbIAAABjAAAARwAAADwAAAEiAAAA\n",
       "XQAAADgAAAA3AAABQQAAAFQAAABDAAAAQAAAAWYAAABUAAAAPAAAADoAAAEYAAAAXAAAAEMAAAA/\n",
       "AAABmgAAAGoAAABXAAAAYwAAASQAAABxAAAAXwAAAFEAAADqAAAAUwAAADwAAABAAAAA8QAAAFAA\n",
       "AABCAAAAOgAAAOEAAABVAAAAOAAAADgAAAD5AAAAVQAAAEIAAABDAAABgQAAAFEAAAA/AAAARgAA\n",
       "AMIAAABoAAAAYQAAAFUAAACiAAAAVwAAAEEAAABAAAAAhAAAAEwAAAAyAAAAPgAAAGAAAAAUc3Rj\n",
       "bwAAAAAAAAABAAAALAAAAGJ1ZHRhAAAAWm1ldGEAAAAAAAAAIWhkbHIAAAAAAAAAAG1kaXJhcHBs\n",
       "AAAAAAAAAAAAAAAALWlsc3QAAAAlqXRvbwAAAB1kYXRhAAAAAQAAAABMYXZmNTcuNTYuMTAx\n",
       "\">\n",
       "  Your browser does not support the video tag.\n",
       "</video>"
      ],
      "text/plain": [
       "<IPython.core.display.HTML object>"
      ]
     },
     "execution_count": 1,
     "metadata": {},
     "output_type": "execute_result"
    }
   ],
   "source": [
    "'''\n",
    "Breakout Solution: \n",
    "\n",
    "Diffraction animation.\n",
    "\n",
    "For more details:\n",
    "\n",
    "https://matplotlib.org/api/animation_api.html\n",
    "\n",
    "See also:\n",
    "\n",
    "http://louistiao.me/posts/notebooks/embedding-matplotlib-animations-in-jupyter-notebooks/\n",
    "\n",
    "[For more notes see display_animation_jupyter_notebook.ipynb under Examples]\n",
    "'''\n",
    "\n",
    "\n",
    "import numpy as np\n",
    "import matplotlib.pyplot as plt\n",
    "from matplotlib.ticker import MaxNLocator\n",
    "from matplotlib import animation, rc\n",
    "from sympy import *\n",
    "\n",
    "from IPython.display import HTML\n",
    "\n",
    "\n",
    "def tophat_single(x, a = 2.):\n",
    "    if x < -a:\n",
    "        return 0\n",
    "    elif x > a:\n",
    "        return 0\n",
    "    else:\n",
    "        return 1\n",
    "\n",
    "x, k = symbols('x k')\n",
    "w = symbols('w', positive = True)\n",
    "tophat = Heaviside(x + w) - Heaviside(x - w)\n",
    "\n",
    "ft = fourier_transform(tophat, x, k)\n",
    "\n",
    "fig = plt.figure(figsize = (8, 5))\n",
    "ax1 = fig.add_subplot(211, xlim=(-10, 10), ylim=(-0.2, 1.2))\n",
    "#, aspect='equal', autoscale_on=False, xlim=(-5, 5), ylim=(-0.2, 1.2))\n",
    "ax2 = fig.add_subplot(212, xlim=(-1, 1)) #, autoscale_on = True) #, ylim=(-0.2, 100.))\n",
    "#, aspect='equal', autoscale_on=False, xlim=(-5, 5), ylim=(-0.2, 1.2))\n",
    "## the value sets the level of gray \n",
    "\n",
    "ax1.set_title('Slit Opening')\n",
    "ax1.set_xlabel('Width')\n",
    "ax1.set_ylabel('Relative Light Intensity')\n",
    "ax1.yaxis.set_label_coords(-0.075,0.5)\n",
    "ax1.set_facecolor('0.9')\n",
    "\n",
    "ax2.set_title('Diffraction Profile')\n",
    "ax2.set_ylabel('Relative Light Intensity')\n",
    "ax2.set_xlabel('Angle (radians)')\n",
    "ax2.yaxis.set_label_coords(-0.075, 0.5)\n",
    "ax2.yaxis.set_major_locator(MaxNLocator(integer=True))\n",
    "ax2.locator_params(axis = 'y', tight = True,  nbins=4)\n",
    "ax2.set_facecolor('0.9')\n",
    "\n",
    "tophat_np = np.vectorize(tophat_single)\n",
    "\n",
    "x_arr = np.linspace(-10, 10, 1000)\n",
    "k_arr = np.linspace(-1, 1, 1000)\n",
    "\n",
    "a_start = 1.\n",
    "\n",
    "line1, = ax1.plot([], [], '-', lw=2)\n",
    "line2, = ax2.plot([], [], '-', lw=2)\n",
    "\n",
    "plt.tight_layout()\n",
    "\n",
    "# ******* animation *******  \n",
    "# init(): establishes the initial frame -- empty data for 2 line objects. \n",
    "# It tells the animation function which objects on the figure to update.\n",
    "\n",
    "def init():\n",
    "    line1.set_data([], [])\n",
    "    line2.set_data([], [])\n",
    "    return line1, line2\n",
    "\n",
    "def animate(i):\n",
    "    \n",
    "    a = a_start + i/50.0\n",
    "    \n",
    "    y_arr = tophat_np(x_arr, a)\n",
    "    line1.set_data(x_arr, y_arr)\n",
    "\n",
    "    ft_w = ft.subs(w, a)\n",
    "\n",
    "    tophat_ft = lambdify(k, ft_w, 'numpy')\n",
    "    ypr = tophat_ft(k_arr)\n",
    "    y_arr2 = (ypr*np.conj(ypr)).real\n",
    "\n",
    "    ax2.set_ylim(0,y_arr2.max()*1.1)\n",
    "\n",
    "\n",
    "    line2.set_data(k_arr, y_arr2)\n",
    "    return line1, line2\n",
    "\n",
    "\n",
    "# Parameters: \n",
    "# 150 frame animation; \n",
    "# a 20 ms delay between frames;\n",
    "# blit: this tells the animation to only \n",
    "# update the parts of the figure that have changed --\n",
    "# an effective strategy to render the animations more quickly.\n",
    "diffrac_ani = animation.FuncAnimation(fig, animate, frames = 150, init_func=init,\n",
    "                              interval=20, blit=True)\n",
    "\n",
    "# ******* if you want to save the animation to mp4 *******\n",
    "# Requires ffmpeg installed.  \n",
    "# diffrac_ani.save('diffract_animation.mp4', fps=30, dpi = 200, extra_args=['-vcodec', 'libx264'])\n",
    "# print('Animation saved')\n",
    "\n",
    "diffrac_html5 = diffrac_ani.to_html5_video()\n",
    "## This turns on inline as backend.  \n",
    "plt.ion()\n",
    "HTML(diffrac_html5)\n",
    "# I also keep a copy of this animation at\n",
    "# https://www.ocf.berkeley.edu/~xhuang/blog/?page_id=52\n"
   ]
  },
  {
   "cell_type": "markdown",
   "metadata": {},
   "source": [
    "## End of Week14-2"
   ]
  }
 ],
 "metadata": {
  "kernelspec": {
   "display_name": "Python 2",
   "language": "python",
   "name": "python2"
  },
  "language_info": {
   "codemirror_mode": {
    "name": "ipython",
    "version": 2
   },
   "file_extension": ".py",
   "mimetype": "text/x-python",
   "name": "python",
   "nbconvert_exporter": "python",
   "pygments_lexer": "ipython2",
   "version": "2.7.13"
  }
 },
 "nbformat": 4,
 "nbformat_minor": 1
}
