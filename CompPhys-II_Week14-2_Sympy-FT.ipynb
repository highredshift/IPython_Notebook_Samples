{
 "cells": [
  {
   "cell_type": "markdown",
   "metadata": {},
   "source": [
    "## University of San Francisco\n",
    "## Compuational Physics II\n",
    "## Xiaosheng Huang"
   ]
  },
  {
   "cell_type": "markdown",
   "metadata": {},
   "source": [
    "# Symbolic Computation -- Continued\n",
    "\n",
    "## 1. Simple Exercises\n",
    "\n",
    "## 2. Complex Functions in Sympy\n",
    "\n",
    "## 3. Fourier Transform\n"
   ]
  },
  {
   "cell_type": "code",
   "execution_count": 1,
   "metadata": {
    "collapsed": true
   },
   "outputs": [],
   "source": [
    "%matplotlib inline\n",
    "import numpy as np\n",
    "import matplotlib.pyplot as plt\n",
    "from __future__ import print_function\n",
    "\n",
    "from sympy import *\n",
    "from sympy.utilities.lambdify import lambdify  \n",
    "\n",
    "from sympy import init_printing\n",
    "init_printing() \n"
   ]
  },
  {
   "cell_type": "markdown",
   "metadata": {},
   "source": [
    "## Mini Quiz:\n",
    "\n",
    "## 1. Integrate a Gaussian from $-\\infty$ to $+\\infty$:\n",
    "\n",
    "## $$y = ae^{-bx^2}$$\n",
    "\n",
    "## Be sure specify that $b > 0$.  Otherwise the integral blows up.\n",
    "\n",
    "## 2. Sum over the geometric series\n",
    "\n",
    "## $$\\sum_{0}^{\\infty} \\frac{1} {2^n}$$\n",
    "\n",
    "## Be sure to specify that $n$ is an integer.\n",
    "\n",
    "## 3. Find the normalization factor A of the following function \n",
    "\n",
    "## $$f(x) = Asin\\left(\\frac{2n \\pi x} {L}\\right)$$\n",
    "\n",
    "## such that $f(x)$ has a norm of 1 over the interval of $x \\in (-L/2, L/2)$.\n",
    "\n",
    "## Be sure to specify $L > 0$ ($L = 0$ would make an unviable function).\n",
    "\n"
   ]
  },
  {
   "cell_type": "code",
   "execution_count": 2,
   "metadata": {},
   "outputs": [
    {
     "data": {
      "image/png": "[encoded data removed]",
      "text/latex": [
       "$$\\frac{\\sqrt{\\pi} a}{\\sqrt{b}}$$"
      ],
      "text/plain": [
       "√π⋅a\n",
       "────\n",
       " √b "
      ]
     },
     "execution_count": 2,
     "metadata": {},
     "output_type": "execute_result"
    }
   ],
   "source": [
    "'''\n",
    "Quiz problem 1 solution\n",
    "\n",
    "Gaussian integrated\n",
    "\n",
    "'''\n",
    "\n",
    "x, a = symbols('x a')\n",
    "# If you don't specify the sign as positive, the intergral blows up.\n",
    "b = symbols('b', positive = True)\n",
    "\n",
    "y = a*exp(-b*x**2)\n",
    "\n",
    "y_int = integrate(y, (x, -oo, oo))\n",
    "\n",
    "y_int"
   ]
  },
  {
   "cell_type": "code",
   "execution_count": 3,
   "metadata": {},
   "outputs": [
    {
     "data": {
      "image/png": "[encoded data removed]",
      "text/latex": [
       "$$2$$"
      ],
      "text/plain": [
       "2"
      ]
     },
     "execution_count": 3,
     "metadata": {},
     "output_type": "execute_result"
    }
   ],
   "source": [
    "'''\n",
    "Quiz problem 2 solution\n",
    "\n",
    "1/2^n summed\n",
    "\n",
    "'''\n",
    "n = symbols('n', integer = True)\n",
    "\n",
    "geom_ser = summation(1/2**n, (n, 0, oo))\n",
    "\n",
    "geom_ser"
   ]
  },
  {
   "cell_type": "code",
   "execution_count": 4,
   "metadata": {},
   "outputs": [
    {
     "data": {
      "image/png": "[encoded data removed]",
      "text/latex": [
       "$$\\frac{\\sqrt{2}}{\\sqrt{L}}$$"
      ],
      "text/plain": [
       "√2\n",
       "──\n",
       "√L"
      ]
     },
     "execution_count": 4,
     "metadata": {},
     "output_type": "execute_result"
    }
   ],
   "source": [
    "'''\n",
    "Quiz problem 3 solution\n",
    "\n",
    "sinusoidal basis function normalized\n",
    "\n",
    "Sympy is smart enough to figure out the answer is independent of n!\n",
    "\n",
    "'''\n",
    "# Note: without knowing L is positive the integrand may not be mathematically valid\n",
    "L = symbols('L', positive = True)\n",
    "n = symbols('n', integer = True, positive = True)\n",
    "\n",
    "f = sin(2*n*pi*x/L)\n",
    "f_int = integrate(f**2, (x, -L/2, L/2))\n",
    "f_int  \n",
    "A = 1/sqrt(f_int)\n",
    "A"
   ]
  },
  {
   "cell_type": "code",
   "execution_count": 5,
   "metadata": {},
   "outputs": [
    {
     "name": "stdout",
     "output_type": "stream",
     "text": [
      "1j\n",
      "1.0*I\n"
     ]
    }
   ],
   "source": [
    "'''Useful for complex Fourier Series and for Fourier Transform'''\n",
    "\n",
    "print(1j)\n",
    "print(I.evalf())"
   ]
  },
  {
   "cell_type": "code",
   "execution_count": 6,
   "metadata": {},
   "outputs": [
    {
     "data": {
      "image/png": "[encoded data removed]",
      "text/latex": [
       "$$-1$$"
      ],
      "text/plain": [
       "-1"
      ]
     },
     "execution_count": 6,
     "metadata": {},
     "output_type": "execute_result"
    }
   ],
   "source": [
    "# Purely sympy expression\n",
    "E**(I*pi)"
   ]
  },
  {
   "cell_type": "code",
   "execution_count": 7,
   "metadata": {},
   "outputs": [
    {
     "data": {
      "image/png": "[encoded data removed]",
      "text/latex": [
       "$$e^{1.0 i \\pi}$$"
      ],
      "text/plain": [
       " 1.0⋅ⅈ⋅π\n",
       "ℯ       "
      ]
     },
     "execution_count": 7,
     "metadata": {},
     "output_type": "execute_result"
    }
   ],
   "source": [
    "## mixture of sympy and numpy expressions \n",
    "E**(1j*pi)"
   ]
  },
  {
   "cell_type": "code",
   "execution_count": 8,
   "metadata": {},
   "outputs": [
    {
     "data": {
      "image/png": "[encoded data removed]",
      "text/latex": [
       "$$-1.0 + 3.0 \\cdot 10^{-21} i$$"
      ],
      "text/plain": [
       "-1.0 + 0.e-21⋅ⅈ"
      ]
     },
     "execution_count": 8,
     "metadata": {},
     "output_type": "execute_result"
    }
   ],
   "source": [
    "## mixture of sympy and numpy expressions with evalf()\n",
    "(E**(1j*pi)).evalf()"
   ]
  },
  {
   "cell_type": "code",
   "execution_count": 9,
   "metadata": {},
   "outputs": [
    {
     "data": {
      "image/png": "[encoded data removed]",
      "text/latex": [
       "$$2.71828182845905^{1.0 i \\pi}$$"
      ],
      "text/plain": [
       "                1.0⋅ⅈ⋅π\n",
       "2.71828182845905       "
      ]
     },
     "execution_count": 9,
     "metadata": {},
     "output_type": "execute_result"
    }
   ],
   "source": [
    "## mixture of sympy and numpy expressions\n",
    "np.e**(1j*pi)"
   ]
  },
  {
   "cell_type": "code",
   "execution_count": 10,
   "metadata": {},
   "outputs": [
    {
     "data": {
      "image/png": "[encoded data removed]",
      "text/latex": [
       "$$-1.0 + 2.0 \\cdot 10^{-16} i$$"
      ],
      "text/plain": [
       "-1.0 + 2.0e-16⋅ⅈ"
      ]
     },
     "execution_count": 10,
     "metadata": {},
     "output_type": "execute_result"
    }
   ],
   "source": [
    "## mixture of sympy and numpy expressions with evalf()\n",
    "(np.e**(1j*pi)).evalf()"
   ]
  },
  {
   "cell_type": "code",
   "execution_count": 11,
   "metadata": {},
   "outputs": [
    {
     "data": {
      "image/png": "[encoded data removed]",
      "text/latex": [
       "$$-1.0 + 2.0 \\cdot 10^{-16} i$$"
      ],
      "text/plain": [
       "-1.0 + 2.0e-16⋅ⅈ"
      ]
     },
     "execution_count": 11,
     "metadata": {},
     "output_type": "execute_result"
    }
   ],
   "source": [
    "(np.e**(1j*pi)).evalf()"
   ]
  },
  {
   "cell_type": "code",
   "execution_count": 12,
   "metadata": {},
   "outputs": [
    {
     "data": {
      "text/plain": [
       "(-1+1.2246467991473532e-16j)"
      ]
     },
     "execution_count": 12,
     "metadata": {},
     "output_type": "execute_result"
    }
   ],
   "source": [
    "## purely numpy expressions\n",
    "np.e**(1j*np.pi)"
   ]
  },
  {
   "cell_type": "markdown",
   "metadata": {},
   "source": [
    "## Conclusion: Generally, DON'T mix numpy and sympy expressions."
   ]
  },
  {
   "cell_type": "markdown",
   "metadata": {},
   "source": [
    "## Sympy's plotting function"
   ]
  },
  {
   "cell_type": "code",
   "execution_count": 13,
   "metadata": {},
   "outputs": [
    {
     "data": {
      "image/png": "[encoded data removed]",
      "text/plain": [
       "<matplotlib.figure.Figure at 0x10ccd1d50>"
      ]
     },
     "metadata": {},
     "output_type": "display_data"
    }
   ],
   "source": [
    "from sympy.abc import x\n",
    "f = x**2\n",
    "# note the difference between the tuple that specify the range in which to evalute the function\n",
    "# and the keyword variable that specifies the range of plotting\n",
    "plot(f, (x, -10, 10), xlim = (-5, 5))\n",
    "\n",
    "# This tells you underneath it's still matplotlib\n",
    "plt.show()"
   ]
  },
  {
   "cell_type": "code",
   "execution_count": 14,
   "metadata": {},
   "outputs": [
    {
     "data": {
      "image/png": "[encoded data removed]",
      "text/plain": [
       "<matplotlib.figure.Figure at 0x10f3ba290>"
      ]
     },
     "metadata": {},
     "output_type": "display_data"
    }
   ],
   "source": [
    "# The Heaviside step function\n",
    "f = Heaviside(x)\n",
    "plot(f, (x, -2, 2))\n",
    "plt.show()"
   ]
  },
  {
   "cell_type": "markdown",
   "metadata": {},
   "source": [
    "## Mini-breakout: \n",
    "\n",
    "- ## Creat a tophat function:\n",
    "\n",
    "$$f(x) = \\begin{cases} \n",
    "      0 & x\\leq -w/2 \\\\\n",
    "      1 & -w/2 < x < w/2 \\\\\n",
    "      0 & x \\geq w/2\n",
    "\\end{cases}$$\n",
    "\n",
    "- ## Specify w = 2.\n",
    "\n",
    "- ## Evaluate and plot the function between $x = -5$ and $5$."
   ]
  },
  {
   "cell_type": "code",
   "execution_count": 15,
   "metadata": {},
   "outputs": [
    {
     "data": {
      "image/png": "[encoded data removed]",
      "text/plain": [
       "<matplotlib.figure.Figure at 0x10f4d7b90>"
      ]
     },
     "metadata": {},
     "output_type": "display_data"
    },
    {
     "data": {
      "text/plain": [
       "<sympy.plotting.plot.Plot at 0x10f327e50>"
      ]
     },
     "execution_count": 15,
     "metadata": {},
     "output_type": "execute_result"
    }
   ],
   "source": [
    "'''\n",
    "Mini-breakout solution\n",
    "\n",
    "Note that without specifying w to be a non-zero quantity (in this case, positive),\n",
    "you can't do symbolic FT transform below.\n",
    "'''\n",
    "w = symbols('w', positive = True)\n",
    "tophat = Heaviside(x + w/2) - Heaviside(x - w/2)\n",
    "plot(tophat.subs(w, 2), (x, -5, 5))"
   ]
  },
  {
   "cell_type": "markdown",
   "metadata": {},
   "source": [
    "## Fourier Tranform "
   ]
  },
  {
   "cell_type": "code",
   "execution_count": 16,
   "metadata": {},
   "outputs": [
    {
     "data": {
      "image/png": "[encoded data removed]",
      "text/plain": [
       "<matplotlib.figure.Figure at 0x10f6fa650>"
      ]
     },
     "metadata": {},
     "output_type": "display_data"
    },
    {
     "data": {
      "image/png": "[encoded data removed]",
      "text/plain": [
       "<matplotlib.figure.Figure at 0x10f38e550>"
      ]
     },
     "metadata": {},
     "output_type": "display_data"
    },
    {
     "data": {
      "image/png": "[encoded data removed]",
      "text/plain": [
       "<matplotlib.figure.Figure at 0x10f83aa10>"
      ]
     },
     "metadata": {},
     "output_type": "display_data"
    },
    {
     "data": {
      "image/png": "[encoded data removed]",
      "text/latex": [
       "$$\\left ( - \\theta\\left(x - \\frac{3}{2}\\right) + \\theta\\left(x + \\frac{3}{2}\\right), \\quad \\frac{i e^{- i \\pi k w}}{2 \\pi k} \\left(- e^{2 i \\pi k w} + 1\\right), \\quad \\frac{e^{- 3 i \\pi k}}{4 \\pi^{2} k \\overline{k}} \\left(1 - e^{- 6 i \\pi \\overline{k}}\\right) \\left(- e^{6 i \\pi k} + 1\\right) e^{3 i \\pi \\overline{k}}\\right )$$"
      ],
      "text/plain": [
       "⎛                                                                          ⎛  \n",
       "⎜                                            ⎛   2⋅ⅈ⋅π⋅k⋅w    ⎞  -ⅈ⋅π⋅k⋅w  ⎜  \n",
       "⎜                                          ⅈ⋅⎝- ℯ          + 1⎠⋅ℯ          ⎝1 \n",
       "⎜-Heaviside(x - 3/2) + Heaviside(x + 3/2), ──────────────────────────────, ───\n",
       "⎜                                                      2⋅π⋅k                  \n",
       "⎝                                                                             \n",
       "\n",
       "          _⎞                                   _⎞\n",
       "   -6⋅ⅈ⋅π⋅k⎟ ⎛   6⋅ⅈ⋅π⋅k    ⎞  -3⋅ⅈ⋅π⋅k  3⋅ⅈ⋅π⋅k⎟\n",
       "- ℯ        ⎠⋅⎝- ℯ        + 1⎠⋅ℯ        ⋅ℯ       ⎟\n",
       "────────────────────────────────────────────────⎟\n",
       "                      2   _                     ⎟\n",
       "                   4⋅π ⋅k⋅k                     ⎠"
      ]
     },
     "execution_count": 16,
     "metadata": {},
     "output_type": "execute_result"
    }
   ],
   "source": [
    "'''\n",
    "\n",
    "Note: We specify the width after FT!\n",
    "\n",
    "Qustion: what do you think is going to happen to the width of the FT if \n",
    "I make the width of the tophat wider?\n",
    "\n",
    "Try it -- do you get what you expected?\n",
    "\n",
    "Why??\n",
    "\n",
    "There are two explanations -- first I will offer one from classical physics:\n",
    "\n",
    "https://en.wikipedia.org/wiki/Fraunhofer_diffraction_(mathematics)#Slit_of_infinite_depth\n",
    "\n",
    "\n",
    "'''\n",
    "k = symbols('k')\n",
    "\n",
    "ft = fourier_transform(tophat, x, k)\n",
    "\n",
    "wid = 3\n",
    "\n",
    "xlo = -4\n",
    "xhi = 4\n",
    "klo = -1\n",
    "khi = 1\n",
    "\n",
    "tophat_w = tophat.subs(w, wid)\n",
    "plot(tophat_w, (x, xlo, xhi))   \n",
    "# by default the real part is plotted\n",
    "\n",
    "ft_w = ft.subs(w, wid)\n",
    "plot(ft_w, (k, klo, khi))   \n",
    "# if you want to take a look at the real and imaginary parts \n",
    "# -- takes a while\n",
    "# plot(re(ft.subs(w, wid)), (k, klo, khi))   \n",
    "# plot(im(ft.subs(w, wid)), (k, klo, khi))   \n",
    "# So, there is no imaginary part, because the the answer is \n",
    "# a purely real function.  If it's Methods, I will ask you to show that\n",
    "# it's basically the sinc function (closely to the Bessell function):\n",
    "# http://mathworld.wolfram.com/SincFunction.html\n",
    "\n",
    "# This is what you really want to plot\n",
    "# -- because as a physicist, this is what you measure.\n",
    "ft2 = ft_w*conjugate(ft_w)\n",
    "plot(ft2, (k, klo, khi))   \n",
    "\n",
    "tophat_w, ft, ft2"
   ]
  },
  {
   "cell_type": "markdown",
   "metadata": {},
   "source": [
    "## ft_w is an analytical function that you can lambdify and apply it to numpy arrays -- this is another way to generate plots."
   ]
  },
  {
   "cell_type": "code",
   "execution_count": 17,
   "metadata": {},
   "outputs": [
    {
     "data": {
      "image/png": "[encoded data removed]",
      "text/latex": [
       "$$\\left ( -0.5, \\quad 1.5\\right )$$"
      ],
      "text/plain": [
       "(-0.5, 1.5)"
      ]
     },
     "execution_count": 17,
     "metadata": {},
     "output_type": "execute_result"
    },
    {
     "data": {
      "image/png": "[encoded data removed]",
      "text/plain": [
       "<matplotlib.figure.Figure at 0x10f31b750>"
      ]
     },
     "metadata": {},
     "output_type": "display_data"
    }
   ],
   "source": [
    "'''\n",
    "Unfortunately lambdify can't be applied to continuous function.  So to get the numpy version of \n",
    "the tophat function itself, we have to try something else.\n",
    "\n",
    "You know I don't like for loops...well, there is another way\n",
    "\n",
    "'''\n",
    "def tophat_single(x_single, a = 2):\n",
    "    if x_single < -a:\n",
    "        return 0\n",
    "    elif x_single > a:\n",
    "        return 0\n",
    "    else:\n",
    "        return 1\n",
    "    \n",
    "tophat_np = np.vectorize(tophat_single)\n",
    "\n",
    "xval = np.linspace(-5, 5, 100)\n",
    "# yval = tophat(xval)\n",
    "# Or \n",
    "yval = tophat_np(xval, a = 1)\n",
    "plt.plot(xval, yval)\n",
    "plt.ylim(-0.5, 1.5)"
   ]
  },
  {
   "cell_type": "markdown",
   "metadata": {},
   "source": [
    "## Breakout Exercise:\n",
    "\n",
    "- ## Create a normalized Gaussian function with a mean of 0, in sympy.  Leave $\\sigma$ as a parameter (without specifying its value).\n",
    "\n",
    "- ## Find out its Fourier Transform\n",
    "\n",
    "- ## Specify the value of $\\sigma$\n",
    "\n",
    "- ## Plot the Gaussian and its Fourier Transform"
   ]
  },
  {
   "cell_type": "code",
   "execution_count": null,
   "metadata": {},
   "outputs": [
    {
     "data": {
      "image/png": "[encoded data removed]",
      "text/plain": [
       "<matplotlib.figure.Figure at 0x10fc1df10>"
      ]
     },
     "metadata": {},
     "output_type": "display_data"
    },
    {
     "data": {
      "image/png": "[encoded data removed]",
      "text/plain": [
       "<matplotlib.figure.Figure at 0x10fb970d0>"
      ]
     },
     "metadata": {},
     "output_type": "display_data"
    },
    {
     "data": {
      "image/png": "[encoded data removed]",
      "text/latex": [
       "$$\\left ( \\frac{\\sqrt{2} e^{- \\frac{x^{2}}{2 s^{2}}}}{2 \\sqrt{\\pi} s}, \\quad e^{- 2 \\pi^{2} k^{2} s^{2}}\\right )$$"
      ],
      "text/plain": [
       "⎛      2               ⎞\n",
       "⎜    -x                ⎟\n",
       "⎜    ────              ⎟\n",
       "⎜       2              ⎟\n",
       "⎜    2⋅s        2  2  2⎟\n",
       "⎜√2⋅ℯ       -2⋅π ⋅k ⋅s ⎟\n",
       "⎜────────, ℯ           ⎟\n",
       "⎝ 2⋅√π⋅s               ⎠"
      ]
     },
     "execution_count": 18,
     "metadata": {},
     "output_type": "execute_result"
    }
   ],
   "source": [
    "''' \n",
    "Breakout Exercise Solution\n",
    "\n",
    "Add \n",
    "\n",
    "1. Parseval's Theorem\n",
    "2. Estimate width (1-sigma)\n",
    "3. Demonstration Uncertainty Principle\n",
    "\n",
    "FT of a Gaussian is a Gaussian!\n",
    "Note: sympy's def of FT: integral(f(x)*e**(-2pi*i*xk)*dx, -oo, +oo).  \n",
    "The inclusion of 2*pi in the exponent is popular in QM. \n",
    "See Boas p. 386, problem 7.35.\n",
    "\n",
    "This is HW4, #5.\n",
    "\n",
    "\n",
    "''' \n",
    "import sympy.plotting as symplt \n",
    "from sympy.abc import x, k \n",
    "\n",
    "s = symbols('s', positive = True)\n",
    "\n",
    "f = (1/(s*sqrt(2*pi))*exp(-x**2/(2*s**2)))\n",
    "ft = fourier_transform(f, x, k)\n",
    "\n",
    "xlo = -4.\n",
    "xhi = 4.\n",
    "klo = -1.\n",
    "khi = 1.\n",
    "\n",
    "sig_val = 0.5\n",
    "\n",
    "f_plot = symplt.plot(f.subs(s, sig_val), (x, xlo, xhi), xlim = [-4, 4])   \n",
    "f_plot[0].line_color = 'k'\n",
    "ft_plot = symplt.plot(ft.subs(s, sig_val), (k, klo, khi), xlimg = [-1, 1])   \n",
    "ft_plot[0].line_color = 'k'\n",
    "\n",
    "f, ft"
   ]
  },
  {
   "cell_type": "markdown",
   "metadata": {},
   "source": [
    "## Big Breakout Exercise:\n",
    "\n",
    "## Two simultaneous animations -- tophat with changing width and its FT sqaured."
   ]
  },
  {
   "cell_type": "code",
   "execution_count": null,
   "metadata": {},
   "outputs": [],
   "source": [
    "'''\n",
    "Breakout Solution: \n",
    "\n",
    "Diffraction animation.\n",
    "\n",
    "For more details:\n",
    "\n",
    "https://matplotlib.org/api/animation_api.html\n",
    "\n",
    "See also:\n",
    "\n",
    "http://louistiao.me/posts/notebooks/embedding-matplotlib-animations-in-jupyter-notebooks/\n",
    "\n",
    "[For more notes see display_animation_jupyter_notebook.ipynb under Examples]\n",
    "'''\n",
    "\n",
    "\n",
    "import numpy as np\n",
    "import matplotlib.pyplot as plt\n",
    "from matplotlib.ticker import MaxNLocator\n",
    "from matplotlib import animation, rc\n",
    "from sympy import *\n",
    "\n",
    "from IPython.display import HTML\n",
    "\n",
    "\n",
    "def tophat_single(x, a = 2.):\n",
    "    if x < -a:\n",
    "        return 0\n",
    "    elif x > a:\n",
    "        return 0\n",
    "    else:\n",
    "        return 1\n",
    "\n",
    "x, k = symbols('x k')\n",
    "w = symbols('w', positive = True)\n",
    "tophat = Heaviside(x + w) - Heaviside(x - w)\n",
    "\n",
    "ft = fourier_transform(tophat, x, k)\n",
    "\n",
    "fig = plt.figure(figsize = (8, 5))\n",
    "ax1 = fig.add_subplot(211, xlim=(-10, 10), ylim=(-0.2, 1.2))\n",
    "#, aspect='equal', autoscale_on=False, xlim=(-5, 5), ylim=(-0.2, 1.2))\n",
    "ax2 = fig.add_subplot(212, xlim=(-1, 1)) #, autoscale_on = True) #, ylim=(-0.2, 100.))\n",
    "#, aspect='equal', autoscale_on=False, xlim=(-5, 5), ylim=(-0.2, 1.2))\n",
    "## the value sets the level of gray \n",
    "\n",
    "ax1.set_title('Slit Opening')\n",
    "ax1.set_xlabel('Width')\n",
    "ax1.set_ylabel('Relative Light Intensity')\n",
    "ax1.yaxis.set_label_coords(-0.075,0.5)\n",
    "ax1.set_facecolor('0.9')\n",
    "\n",
    "ax2.set_title('Diffraction Profile')\n",
    "ax2.set_ylabel('Relative Light Intensity')\n",
    "ax2.set_xlabel('Angle (radians)')\n",
    "ax2.yaxis.set_label_coords(-0.075, 0.5)\n",
    "ax2.yaxis.set_major_locator(MaxNLocator(integer=True))\n",
    "ax2.locator_params(axis = 'y', tight = True,  nbins=4)\n",
    "ax2.set_facecolor('0.9')\n",
    "\n",
    "tophat_np = np.vectorize(tophat_single)\n",
    "\n",
    "x_arr = np.linspace(-10, 10, 1000)\n",
    "k_arr = np.linspace(-1, 1, 1000)\n",
    "\n",
    "a_start = 1.\n",
    "\n",
    "line1, = ax1.plot([], [], '-', lw=2)\n",
    "line2, = ax2.plot([], [], '-', lw=2)\n",
    "\n",
    "plt.tight_layout()\n",
    "\n",
    "# ******* animation *******  \n",
    "# init(): establishes the initial frame -- empty data for 2 line objects. \n",
    "# It tells the animation function which objects on the figure to update.\n",
    "\n",
    "def init():\n",
    "    line1.set_data([], [])\n",
    "    line2.set_data([], [])\n",
    "    return line1, line2\n",
    "\n",
    "def animate(i):\n",
    "    \n",
    "    a = a_start + i/50.0\n",
    "    \n",
    "    y_arr = tophat_np(x_arr, a)\n",
    "    line1.set_data(x_arr, y_arr)\n",
    "\n",
    "    ft_w = ft.subs(w, a)\n",
    "\n",
    "    tophat_ft = lambdify(k, ft_w, 'numpy')\n",
    "    ypr = tophat_ft(k_arr)\n",
    "    y_arr2 = (ypr*np.conj(ypr)).real\n",
    "\n",
    "    ax2.set_ylim(0,y_arr2.max()*1.1)\n",
    "\n",
    "\n",
    "    line2.set_data(k_arr, y_arr2)\n",
    "    return line1, line2\n",
    "\n",
    "\n",
    "# Parameters: \n",
    "# 150 frame animation; \n",
    "# a 20 ms delay between frames;\n",
    "# blit: this tells the animation to only \n",
    "# update the parts of the figure that have changed --\n",
    "# an effective strategy to render the animations more quickly.\n",
    "diffrac_ani = animation.FuncAnimation(fig, animate, frames = 150, init_func=init,\n",
    "                              interval=20, blit=True)\n",
    "\n",
    "# ******* if you want to save the animation to mp4 *******\n",
    "# Requires ffmpeg installed.  \n",
    "# diffrac_ani.save('diffract_animation.mp4', fps=30, dpi = 200, extra_args=['-vcodec', 'libx264'])\n",
    "# print('Animation saved')\n",
    "\n",
    "diffrac_html5 = diffrac_ani.to_html5_video()\n",
    "## This turns on inline as backend.  \n",
    "plt.ion()\n",
    "HTML(diffrac_html5)\n",
    "# I also keep a copy of this animation at\n",
    "# https://www.ocf.berkeley.edu/~xhuang/blog/?page_id=52\n"
   ]
  },
  {
   "cell_type": "markdown",
   "metadata": {},
   "source": [
    "## End of Week14-2"
   ]
  }
 ],
 "metadata": {
  "kernelspec": {
   "display_name": "Python 2",
   "language": "python",
   "name": "python2"
  },
  "language_info": {
   "codemirror_mode": {
    "name": "ipython",
    "version": 2
   },
   "file_extension": ".py",
   "mimetype": "text/x-python",
   "name": "python",
   "nbconvert_exporter": "python",
   "pygments_lexer": "ipython2",
   "version": "2.7.13"
  }
 },
 "nbformat": 4,
 "nbformat_minor": 1
}
